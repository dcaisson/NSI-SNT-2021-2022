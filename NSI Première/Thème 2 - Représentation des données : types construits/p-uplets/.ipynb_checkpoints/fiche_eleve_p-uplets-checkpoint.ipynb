{
 "cells": [
  {
   "cell_type": "markdown",
   "metadata": {
    "slideshow": {
     "slide_type": "-"
    }
   },
   "source": [
    "# Fiche élève &ndash; Les p-uplets (ou tuples) en Python"
   ]
  },
  {
   "cell_type": "markdown",
   "metadata": {
    "slideshow": {
     "slide_type": "skip"
    }
   },
   "source": [
    "## Sommaire \n",
    "[**1. Opérations sur les listes**](#operations)  \n",
    "&nbsp;&nbsp;&nbsp;&nbsp;[1.1 Créer une liste](#creer-une-liste)  \n",
    "&nbsp;&nbsp;&nbsp;&nbsp;[1.2 Longueur d'une liste](#longueur-d-une-liste)  \n",
    "&nbsp;&nbsp;&nbsp;&nbsp;[1.3 Accéder aux éléments d'une liste](#acceder-aux-elements)  \n",
    "&nbsp;&nbsp;&nbsp;&nbsp;[1.4 Modifier un élément](#modifier-un-element)  \n",
    "&nbsp;&nbsp;&nbsp;&nbsp;[1.5 Les tranches](#tranches)  \n",
    "&nbsp;&nbsp;&nbsp;&nbsp;[1.6 Ajouter un élément en fin de liste](#ajouter-un-element)  \n",
    "&nbsp;&nbsp;&nbsp;&nbsp;[1.7 Parcourir une liste](#parcourir-une-liste)  \n",
    "&nbsp;&nbsp;&nbsp;&nbsp;[1.8 Supprimer un élément d'une liste](#supprimer-un-element)  \n",
    "&nbsp;&nbsp;&nbsp;&nbsp;[1.9 Appartenance d'un élément à une liste](#appartenance-d-un-element)   \n",
    "[**2. Copier une liste**](#copier-une-liste)  \n",
    "&nbsp;&nbsp;&nbsp;&nbsp;[2.1 Recopie \"naïve\"](#recopie-naive)  \n",
    "&nbsp;&nbsp;&nbsp;&nbsp;[2.2 Conséquence importante](#consequence-importante)  \n",
    "&nbsp;&nbsp;&nbsp;&nbsp;[2.3 Comment recopier une liste](#comment-recopier-une-liste)  \n",
    "[**3. Exercices sur les listes**](#exercices-sur-les-listes)  \n",
    "[**4. Les listes de listes**](#listes-de-listes)  "
   ]
  },
  {
   "cell_type": "markdown",
   "metadata": {
    "slideshow": {
     "slide_type": "slide"
    }
   },
   "source": [
    "## 1. Définition et opérations<a id=\"\"></a>"
   ]
  },
  {
   "cell_type": "markdown",
   "metadata": {
    "slideshow": {
     "slide_type": "slide"
    }
   },
   "source": [
    "### 1.1 Définition<a id=\"\"></a>\n"
   ]
  },
  {
   "cell_type": "code",
   "execution_count": null,
   "metadata": {
    "slideshow": {
     "slide_type": "subslide"
    }
   },
   "outputs": [],
   "source": [
    "# Exemple de création d'une liste en extension\n",
    "liste_1 = [1984, \"Orwell\", 328.0]\n",
    "\n",
    "# Une liste vide\n",
    "liste_2 = []"
   ]
  },
  {
   "cell_type": "code",
   "execution_count": null,
   "metadata": {
    "slideshow": {
     "slide_type": "subslide"
    }
   },
   "outputs": [],
   "source": [
    "# Une liste contenant les notes des élèves de NSI de l'an dernier\n",
    "notes_NSI = [0] * 15\n",
    "notes_NSI"
   ]
  },
  {
   "cell_type": "code",
   "execution_count": null,
   "metadata": {
    "slideshow": {
     "slide_type": "fragment"
    }
   },
   "outputs": [],
   "source": [
    "# Un autre exemple\n",
    "un_deux = [1, 2] * 3\n",
    "un_deux"
   ]
  },
  {
   "cell_type": "markdown",
   "metadata": {
    "slideshow": {
     "slide_type": "subslide"
    }
   },
   "source": [
    "Pour créer une liste en compréhension, on utilise la syntaxe générale suivante :\n",
    "```\n",
    "[expr for x in t]\n",
    "```"
   ]
  },
  {
   "cell_type": "code",
   "execution_count": null,
   "metadata": {
    "slideshow": {
     "slide_type": "fragment"
    }
   },
   "outputs": [],
   "source": [
    "# Premier exemple à essayer\n",
    "multiples = [3 * m for m in range(1,11)]\n",
    "multiples"
   ]
  },
  {
   "cell_type": "markdown",
   "metadata": {
    "slideshow": {
     "slide_type": "subslide"
    }
   },
   "source": [
    "### 1.2 Longueur d'une liste<a id=\"longueur-d-une-liste\"></a>\n",
    "La longueur d'une liste s'obtient à l'aide de ```len```."
   ]
  },
  {
   "cell_type": "code",
   "execution_count": null,
   "metadata": {
    "slideshow": {
     "slide_type": "fragment"
    }
   },
   "outputs": [],
   "source": [
    "len(liste_1)"
   ]
  },
  {
   "cell_type": "markdown",
   "metadata": {
    "slideshow": {
     "slide_type": "subslide"
    }
   },
   "source": [
    "### 1.3 Accéder aux éléments d'une liste<a id=\"acceder-aux-elements\"></a>\n",
    "Pour accéder aux éléments d'une liste, il suffit d'utiliser l'indice de cet élément :   \n",
    "- **le premier élément de la liste a pour indice $0$** ;\n",
    "- les indices négatifs sont autorisés ($-1$ pour le dernier élément, $-2$ pour l'avant-dernier...)."
   ]
  },
  {
   "cell_type": "code",
   "execution_count": null,
   "metadata": {
    "slideshow": {
     "slide_type": "fragment"
    }
   },
   "outputs": [],
   "source": [
    "# Un exemple\n",
    "fruits = [\"pomme\", \"abricot\", \"poire\", \"mangue\", \"raisin\"]\n",
    "fruits[0], fruits[1], fruits[-1]"
   ]
  },
  {
   "cell_type": "markdown",
   "metadata": {
    "slideshow": {
     "slide_type": "subslide"
    }
   },
   "source": [
    "### 1.4 Modifier un élément<a id=\"modifier-un-element\"></a>\n",
    "Il est possible de modifier directement un élément d'une liste. Par exemple :"
   ]
  },
  {
   "cell_type": "code",
   "execution_count": null,
   "metadata": {
    "slideshow": {
     "slide_type": "fragment"
    }
   },
   "outputs": [],
   "source": [
    "# Modification du premier élément de la liste fruits\n",
    "fruits[0] = \"pêche\"\n",
    "fruits"
   ]
  },
  {
   "cell_type": "markdown",
   "metadata": {
    "slideshow": {
     "slide_type": "subslide"
    }
   },
   "source": [
    "### 1.5 Les tranches<a id=\"tranches\"></a>\n",
    "Il est possible d'utiliser les tranches en précisant l'indice du premier élément souhaité et l'indice du dernier (qui ne sera pas inclus)."
   ]
  },
  {
   "cell_type": "code",
   "execution_count": null,
   "metadata": {
    "slideshow": {
     "slide_type": "fragment"
    }
   },
   "outputs": [],
   "source": [
    "# Un exemple\n",
    "formes = [\"carre\", \"rectangle\", \"losange\", \"cercle\", \"parallélogramme\", \"cerf-volant\", \"trapèze\"]"
   ]
  },
  {
   "cell_type": "code",
   "execution_count": null,
   "metadata": {
    "slideshow": {
     "slide_type": "fragment"
    }
   },
   "outputs": [],
   "source": [
    "formes[2:5]"
   ]
  },
  {
   "cell_type": "code",
   "execution_count": null,
   "metadata": {
    "slideshow": {
     "slide_type": "fragment"
    }
   },
   "outputs": [],
   "source": [
    " formes[1:6:2]"
   ]
  },
  {
   "cell_type": "markdown",
   "metadata": {
    "slideshow": {
     "slide_type": "subslide"
    }
   },
   "source": [
    "### 1.6 Ajouter un élément en fin de liste<a id=\"ajouter-un-element\"></a>\n",
    "La fonction ```append``` permet d'ajouter un élément à la fin d'une liste."
   ]
  },
  {
   "cell_type": "code",
   "execution_count": null,
   "metadata": {
    "slideshow": {
     "slide_type": "fragment"
    }
   },
   "outputs": [],
   "source": [
    "# Un exemple\n",
    "premiers = [2, 3, 5, 7, 11]\n",
    "premiers.append(13)\n",
    "premiers"
   ]
  },
  {
   "cell_type": "markdown",
   "metadata": {
    "slideshow": {
     "slide_type": "subslide"
    }
   },
   "source": [
    "### 1.7 Parcourir une liste<a id=\"parcourir-une-liste\"></a>\n",
    "On peut parcourir une liste en utilisant une boucle."
   ]
  },
  {
   "cell_type": "code",
   "execution_count": null,
   "metadata": {
    "rise": {
     "scroll": true
    },
    "slideshow": {
     "slide_type": "fragment"
    }
   },
   "outputs": [],
   "source": [
    "# Parcours d'une liste en utilisant sa longueur et une boucle\n",
    "eleves = [\"Margaret\", \"Donald\", \"Grace\", \"Charles\", \n",
    "          \"Georges\", \"Blaise\", \"Alan\", \"Ada\"\n",
    "         ]\n",
    "n = len(eleves)\n",
    "for i in range(n):\n",
    "    print(f\"{eleves[i]} aime la NSI !\")"
   ]
  },
  {
   "cell_type": "markdown",
   "metadata": {
    "slideshow": {
     "slide_type": "subslide"
    }
   },
   "source": [
    "En Python, les listes sont **itérables**. On peut les parcourir de la façon suivante :"
   ]
  },
  {
   "cell_type": "code",
   "execution_count": null,
   "metadata": {
    "rise": {
     "scroll": true
    },
    "slideshow": {
     "slide_type": "fragment"
    }
   },
   "outputs": [],
   "source": [
    "for individu in eleves:\n",
    "    print(f\"{individu} aime la NSI !\")"
   ]
  },
  {
   "cell_type": "markdown",
   "metadata": {
    "slideshow": {
     "slide_type": "subslide"
    }
   },
   "source": [
    "### 1.8 Supprimer un élément d'une liste<a id=\"supprimer-un-element\"></a>\n",
    "Il existe deux façons de supprimer un élément d'une liste :   \n",
    "- ```del``` permet une suppression avec l'indice de l'élément ;\n",
    "- ```remove``` permet de supprimer la première occurrence d'un élément d'une liste.  \n",
    "\n",
    "*Remarque : lorsque l'élément à supprimer ne fait pas partie de la liste, la fonction ```remove``` retourne une erreur ```ValueError```.*"
   ]
  },
  {
   "cell_type": "code",
   "execution_count": null,
   "metadata": {
    "slideshow": {
     "slide_type": "subslide"
    }
   },
   "outputs": [],
   "source": [
    "eleves_preferes = [\"Margaret\", \"Donald\", \"Charles\", \"Grace\", \"Donald\"]\n",
    "# La première occurrence de \"Donald\" est supprimée\n",
    "eleves_preferes.remove(\"Donald\")\n",
    "# Mais la seconde non !\n",
    "eleves_preferes"
   ]
  },
  {
   "cell_type": "code",
   "execution_count": null,
   "metadata": {
    "slideshow": {
     "slide_type": "fragment"
    }
   },
   "outputs": [],
   "source": [
    "eleves_preferes"
   ]
  },
  {
   "cell_type": "code",
   "execution_count": null,
   "metadata": {
    "slideshow": {
     "slide_type": "fragment"
    }
   },
   "outputs": [],
   "source": [
    "# On supprime l'élément d'indice 1 (\"Charles\")\n",
    "del eleves_preferes[1]\n",
    "eleves_preferes"
   ]
  },
  {
   "cell_type": "code",
   "execution_count": null,
   "metadata": {
    "scrolled": true,
    "slideshow": {
     "slide_type": "fragment"
    }
   },
   "outputs": [],
   "source": [
    "# Une erreur se produit lorsqu'on essaie de supprimer un élément qui ne fait pas partie de la liste\n",
    "eleves_preferes.remove(\"Georges\")"
   ]
  },
  {
   "cell_type": "markdown",
   "metadata": {
    "slideshow": {
     "slide_type": "subslide"
    }
   },
   "source": [
    "### 1.9 Appartenance d'un élément à une liste<a id=\"appartenance-d-un-element\"></a>\n",
    "```in``` permet de \"tester\" l'appartenance d'un élément à une liste."
   ]
  },
  {
   "cell_type": "code",
   "execution_count": null,
   "metadata": {
    "slideshow": {
     "slide_type": "fragment"
    }
   },
   "outputs": [],
   "source": [
    "# Un exemple\n",
    "eleves_travailleurs = [\"Donald\", \"Georges\", \"Grace\", \"Margaret\"]"
   ]
  },
  {
   "cell_type": "code",
   "execution_count": null,
   "metadata": {
    "slideshow": {
     "slide_type": "fragment"
    }
   },
   "outputs": [],
   "source": [
    "\"Margaret\" in eleves_travailleurs"
   ]
  },
  {
   "cell_type": "code",
   "execution_count": null,
   "metadata": {},
   "outputs": [],
   "source": [
    "\"Ada\" in eleves_travailleurs"
   ]
  },
  {
   "cell_type": "markdown",
   "metadata": {
    "slideshow": {
     "slide_type": "slide"
    }
   },
   "source": [
    "## 2. Copier une liste<a id=\"copier-une-liste\"></a>\n",
    "\n",
    "### 2.1 Recopie \"naïve\"<a id=\"recopie-naive\"></a>\n",
    "Observer ce qu'il se passe avec le code suivant :"
   ]
  },
  {
   "cell_type": "code",
   "execution_count": null,
   "metadata": {
    "slideshow": {
     "slide_type": "fragment"
    }
   },
   "outputs": [],
   "source": [
    "# On crée une liste appelée entiers\n",
    "entiers = [1, 2, 3, 4, 5]\n",
    "# On essaie de la copier\n",
    "copie_entiers = entiers\n",
    "# On modifie le premier élément de la copie\n",
    "copie_entiers[0] = 0"
   ]
  },
  {
   "cell_type": "code",
   "execution_count": null,
   "metadata": {
    "slideshow": {
     "slide_type": "fragment"
    }
   },
   "outputs": [],
   "source": [
    "# La modification a bien été effectuée sur la liste copiée\n",
    "copie_entiers"
   ]
  },
  {
   "cell_type": "code",
   "execution_count": null,
   "metadata": {
    "slideshow": {
     "slide_type": "fragment"
    }
   },
   "outputs": [],
   "source": [
    "# Mais la liste initiale a aussi été modifiée !!\n",
    "entiers"
   ]
  },
  {
   "cell_type": "markdown",
   "metadata": {
    "slideshow": {
     "slide_type": "subslide"
    }
   },
   "source": [
    "**Explication**  \n",
    "En réalité, dans l'exemple ci-dessus, la variable ```entiers``` contient l'*adresse mémoire* de l'espace alloué à la liste. L'instruction ```copie_entiers = entiers``` a pour effet d'attribuer à la variable ```copie_entiers``` la valeur de la variable ```entiers``` qui est une adresse mémoire. Après cette instruction, les deux variables désignent donc la même liste, d'où le phénomène constaté."
   ]
  },
  {
   "cell_type": "markdown",
   "metadata": {
    "slideshow": {
     "slide_type": "subslide"
    }
   },
   "source": [
    "Ce phénomène ne se produisait pas lorsqu'on travaillait sur des entiers par exemple :"
   ]
  },
  {
   "cell_type": "code",
   "execution_count": null,
   "metadata": {
    "slideshow": {
     "slide_type": "fragment"
    }
   },
   "outputs": [],
   "source": [
    "x = 1\n",
    "# L'instruction suivante crée une nouvelle variable y\n",
    "# Copie \"indépendante\" de la variable x\n",
    "y = x"
   ]
  },
  {
   "cell_type": "code",
   "execution_count": null,
   "metadata": {
    "slideshow": {
     "slide_type": "fragment"
    }
   },
   "outputs": [],
   "source": [
    "# Une modification de la copie y ne modifie pas x\n",
    "y = 2 * y\n",
    "# y a été modifiée, mais pas x\n",
    "x"
   ]
  },
  {
   "cell_type": "markdown",
   "metadata": {
    "slideshow": {
     "slide_type": "subslide"
    }
   },
   "source": [
    "### 2.2 Conséquence importante<a id=\"consequence-importante\"></a>\n",
    "Observer les lignes suivantes :"
   ]
  },
  {
   "cell_type": "code",
   "execution_count": null,
   "metadata": {
    "slideshow": {
     "slide_type": "fragment"
    }
   },
   "outputs": [],
   "source": [
    "x = 1\n",
    "\n",
    "def double(a):\n",
    "    a = 2 * a\n",
    "\n",
    "double(x)\n",
    "# La procédure double n'a pas modifié la variable x passée en argument\n",
    "x"
   ]
  },
  {
   "cell_type": "code",
   "execution_count": null,
   "metadata": {
    "slideshow": {
     "slide_type": "subslide"
    }
   },
   "outputs": [],
   "source": [
    "t = [1, 2, 3]\n",
    "\n",
    "def annule_premier(L):\n",
    "    L[0] = 0\n",
    "\n",
    "annule_premier(t)\n",
    "# La procédure annule_premier a modifié la liste t passée en argument !!\n",
    "t"
   ]
  },
  {
   "cell_type": "markdown",
   "metadata": {
    "slideshow": {
     "slide_type": "subslide"
    }
   },
   "source": [
    "**Remarque très importante : on retiendra qu'une fonction/procédure peut modifier le contenu d'une liste qui lui est passée en argument.**"
   ]
  },
  {
   "cell_type": "markdown",
   "metadata": {
    "slideshow": {
     "slide_type": "subslide"
    }
   },
   "source": [
    "### 2.3 Comment recopier une liste ?<a id=\"comment-recopier-une-liste\"></a>"
   ]
  },
  {
   "cell_type": "markdown",
   "metadata": {
    "slideshow": {
     "slide_type": "fragment"
    }
   },
   "source": [
    "<font style=\"color:rgb(113,65,224)\">**Exercice 1**</font>   \n",
    "    <font style=\"color:rgb(113,65,224)\">\\hspace{3mm}1. À l'aide d'une boucle, créer une copie (indépendante) de la liste ```L``` (qu'on appellera ```copie```).</font>"
   ]
  },
  {
   "cell_type": "code",
   "execution_count": null,
   "metadata": {
    "slideshow": {
     "slide_type": "fragment"
    }
   },
   "outputs": [],
   "source": [
    "L = [1, 2, 3, 4, 5]\n",
    "pass"
   ]
  },
  {
   "cell_type": "markdown",
   "metadata": {
    "slideshow": {
     "slide_type": "subslide"
    }
   },
   "source": [
    "<font style=\"color:rgb(113,65,224)\">\\hspace{3mm}2. Vérifier que ```L``` et ```copie``` sont bien deux listes indépendantes.</font>"
   ]
  },
  {
   "cell_type": "code",
   "execution_count": null,
   "metadata": {
    "slideshow": {
     "slide_type": "fragment"
    }
   },
   "outputs": [],
   "source": [
    "copie[0] = 0\n",
    "copie"
   ]
  },
  {
   "cell_type": "code",
   "execution_count": null,
   "metadata": {
    "slideshow": {
     "slide_type": "fragment"
    }
   },
   "outputs": [],
   "source": [
    "L"
   ]
  },
  {
   "cell_type": "markdown",
   "metadata": {
    "slideshow": {
     "slide_type": "subslide"
    }
   },
   "source": [
    "<font style=\"color:rgb(113,65,224)\">\\hspace{3mm}3. Il est aussi possible de copier une liste à l'aide de la fonction ```copy```. Lire la documentation de cette fonction, et l'utiliser pour créer une autre copie indépendante de la liste ```L``` (qu'on appellera ```copie2```). Vérifier que ```L``` et ```copie2``` sont bien indépendantes.</font>"
   ]
  },
  {
   "cell_type": "code",
   "execution_count": null,
   "metadata": {
    "slideshow": {
     "slide_type": "fragment"
    }
   },
   "outputs": [],
   "source": [
    "# À vous de jouer !\n",
    "pass"
   ]
  },
  {
   "cell_type": "markdown",
   "metadata": {
    "slideshow": {
     "slide_type": "slide"
    }
   },
   "source": [
    "## 3. Exercices sur les listes<a id=\"exercices-sur-les-listes\"></a>"
   ]
  },
  {
   "cell_type": "markdown",
   "metadata": {
    "slideshow": {
     "slide_type": "fragment"
    }
   },
   "source": [
    "<font style=\"color:rgb(113,65,224)\">**Exercice 2**   \n",
    "Écrire une fonction ```occurrences(v, L)``` qui renvoie le nombre d'occurrences de la valeur ```v``` dans la liste ```L```.</font>"
   ]
  },
  {
   "cell_type": "code",
   "execution_count": null,
   "metadata": {
    "slideshow": {
     "slide_type": "fragment"
    }
   },
   "outputs": [],
   "source": [
    "# À vous de jouer"
   ]
  },
  {
   "cell_type": "markdown",
   "metadata": {
    "slideshow": {
     "slide_type": "subslide"
    }
   },
   "source": [
    "<font style=\"color:rgb(113,65,224)\">**Exercice 3**   \n",
    "Écrire un programme qui construit un tableau de $100$ entiers tirés au hasard entre $1$ et $1000$, puis l'affiche.</font>"
   ]
  },
  {
   "cell_type": "code",
   "execution_count": null,
   "metadata": {
    "slideshow": {
     "slide_type": "fragment"
    }
   },
   "outputs": [],
   "source": [
    "# À vous de jouer"
   ]
  },
  {
   "cell_type": "markdown",
   "metadata": {
    "slideshow": {
     "slide_type": "subslide"
    }
   },
   "source": [
    "<font style=\"color:rgb(113,65,224)\">**Exercice 4**   \n",
    "Compléter le programme précédent pour calculer et afficher l'élément le plus grand de la liste.</font>"
   ]
  },
  {
   "cell_type": "code",
   "execution_count": null,
   "metadata": {
    "slideshow": {
     "slide_type": "fragment"
    }
   },
   "outputs": [],
   "source": [
    "# À vous de jouer"
   ]
  },
  {
   "cell_type": "markdown",
   "metadata": {
    "slideshow": {
     "slide_type": "subslide"
    }
   },
   "source": [
    "<font style=\"color:rgb(113,65,224)\">**Exercice 5**   \n",
    "Écrire un programme qui tire au hasard mille entiers entre $1$ et $10$ et affiche ensuite le nombre de fois que chaque nombre a été tiré.</font>"
   ]
  },
  {
   "cell_type": "code",
   "execution_count": null,
   "metadata": {
    "slideshow": {
     "slide_type": "fragment"
    }
   },
   "outputs": [],
   "source": [
    "# À vous de jouer"
   ]
  },
  {
   "cell_type": "markdown",
   "metadata": {
    "slideshow": {
     "slide_type": "subslide"
    }
   },
   "source": [
    "<font style=\"color:rgb(113,65,224)\">**Exercice 6**   \n",
    "En mathématiques, la suite de *Fibonacci* est la suite $(u_n)_{n\\in\\mathbb{N}}$ définie par $u_0=0$, $u_1=1$ et, pour tout entier naturel $n$, $u_{n+2}=u_{n+1}+u_n$. Écrire une fonction qui renvoie la liste des $N$ premiers termes de la suite $(u_n)_{n\\in\\mathbb{N}}$ où $N$ est un entier naturel donné en paramètre.</font>"
   ]
  },
  {
   "cell_type": "code",
   "execution_count": null,
   "metadata": {
    "slideshow": {
     "slide_type": "fragment"
    }
   },
   "outputs": [],
   "source": [
    "# À vous de jouer"
   ]
  },
  {
   "cell_type": "markdown",
   "metadata": {
    "slideshow": {
     "slide_type": "subslide"
    }
   },
   "source": [
    "<font style=\"color:rgb(113,65,224)\">**Exercice 7**   \n",
    "Écrire une fonction ```ajout(v, L)``` qui renvoie la liste dont les éléments sont ceux de ```L``` suivis de ```v```.</font>"
   ]
  },
  {
   "cell_type": "code",
   "execution_count": null,
   "metadata": {
    "slideshow": {
     "slide_type": "fragment"
    }
   },
   "outputs": [],
   "source": [
    "# À vous de jouer"
   ]
  },
  {
   "cell_type": "markdown",
   "metadata": {
    "slideshow": {
     "slide_type": "subslide"
    }
   },
   "source": [
    "<font style=\"color:rgb(113,65,224)\">**Exercice 8**   \n",
    "Écrire une fonction ```concatenation(liste1, liste2)``` qui renvoie une nouvelle liste contenant, dans l'ordre, tous les éléments de la liste ```liste1``` puis tous les éléments de la liste ```liste2```.</font>"
   ]
  },
  {
   "cell_type": "code",
   "execution_count": null,
   "metadata": {
    "slideshow": {
     "slide_type": "fragment"
    }
   },
   "outputs": [],
   "source": [
    "# À vous de jouer"
   ]
  },
  {
   "cell_type": "markdown",
   "metadata": {
    "slideshow": {
     "slide_type": "subslide"
    }
   },
   "source": [
    "<font style=\"color:rgb(113,65,224)\">**Exercice 9**   \n",
    "Écrire une fonction ```liste_aleatoire(n, a, b)``` qui renvoie une liste de taille ```n``` contenant des entiers tirés au hasard entre ```a``` (inclus) et ```b``` (inclus).</font>"
   ]
  },
  {
   "cell_type": "code",
   "execution_count": null,
   "metadata": {
    "slideshow": {
     "slide_type": "fragment"
    }
   },
   "outputs": [],
   "source": [
    "# À vous de jouer"
   ]
  },
  {
   "cell_type": "markdown",
   "metadata": {
    "slideshow": {
     "slide_type": "subslide"
    }
   },
   "source": [
    "<font style=\"color:rgb(113,65,224)\">**Exercice 10**   \n",
    "Écrire une procédure ```echange(L, i, j)``` qui échange dans la liste ```L``` les éléments d'indices ```i``` et ```j```.</font>"
   ]
  },
  {
   "cell_type": "code",
   "execution_count": null,
   "metadata": {
    "slideshow": {
     "slide_type": "fragment"
    }
   },
   "outputs": [],
   "source": [
    "# À vous de jouer"
   ]
  },
  {
   "cell_type": "markdown",
   "metadata": {
    "slideshow": {
     "slide_type": "subslide"
    }
   },
   "source": [
    "<font style=\"color:rgb(113,65,224)\">**Exercice 11**   \n",
    "1. Écrire une fonction ```somme(L)``` qui renvoie la somme des éléments d'une liste ```L```.\n",
    "2. Écrire alors une fonction ```moyenne(L)``` qui renvoie la moyenne des éléments d'une liste ```L``` supposée non vide.</font>"
   ]
  },
  {
   "cell_type": "code",
   "execution_count": null,
   "metadata": {
    "slideshow": {
     "slide_type": "fragment"
    }
   },
   "outputs": [],
   "source": [
    "# À vous de jouer"
   ]
  },
  {
   "cell_type": "markdown",
   "metadata": {
    "slideshow": {
     "slide_type": "subslide"
    }
   },
   "source": [
    "<font style=\"color:rgb(113,65,224)\">**Exercice 12**   \n",
    "Écrire une fonction ```produit(L)``` qui renvoie le produit des éléments d'une liste d'entiers. Si la liste contient $0$, la fonction devra renvoyer $0$ sans parcourir la liste jusqu'au bout.</font>"
   ]
  },
  {
   "cell_type": "code",
   "execution_count": null,
   "metadata": {
    "slideshow": {
     "slide_type": "fragment"
    }
   },
   "outputs": [],
   "source": [
    "# À vous de jouer"
   ]
  },
  {
   "cell_type": "markdown",
   "metadata": {
    "slideshow": {
     "slide_type": "subslide"
    }
   },
   "source": [
    "<font style=\"color:rgb(113,65,224)\">**Exercice 13**   \n",
    "Écrire une procédure ```miroir(L)``` qui reçoit une liste en argument et la modifie pour échanger le premier élément avec le dernier, le deuxième avec l'avant-dernier, etc.</font>"
   ]
  },
  {
   "cell_type": "code",
   "execution_count": null,
   "metadata": {
    "slideshow": {
     "slide_type": "fragment"
    }
   },
   "outputs": [],
   "source": [
    "# À vous de jouer"
   ]
  },
  {
   "cell_type": "markdown",
   "metadata": {
    "slideshow": {
     "slide_type": "subslide"
    }
   },
   "source": [
    "<font style=\"color:rgb(113,65,224)\">**Exercice 14**   \n",
    "Pour mélanger les éléments d'une liste aléatoirement, il existe un algorithme très simple qui procède ainsi : on parcourt le tableau de la gauche vers la droite et, pour chaque élément à l'indice $i$, on l'échange avec un élément situé à un indice tiré aléatoirement entre $0$ et $i$ (inclus). Écrire une fonction ```melange(L)``` qui réalise cet algorithme.   \n",
    "*Cet algorithme s'appelle le mélange de Knuth.*</font>"
   ]
  },
  {
   "cell_type": "code",
   "execution_count": null,
   "metadata": {
    "slideshow": {
     "slide_type": "fragment"
    }
   },
   "outputs": [],
   "source": [
    "# À vous de jouer"
   ]
  },
  {
   "cell_type": "markdown",
   "metadata": {
    "slideshow": {
     "slide_type": "subslide"
    }
   },
   "source": [
    "<font style=\"color:rgb(113,65,224)\">**Exercice 15**   \n",
    "Écrire une fonction ```prefixe(liste1, liste2)``` qui renvoie ```True``` si la liste ```liste1``` est un préfixe de la liste ```liste2```, c'est-à-dire si la liste ```liste2``` commence par les éléments de la liste ```liste1``` dans le même ordre.</font>"
   ]
  },
  {
   "cell_type": "code",
   "execution_count": null,
   "metadata": {
    "slideshow": {
     "slide_type": "fragment"
    }
   },
   "outputs": [],
   "source": [
    "# À vous de jouer"
   ]
  },
  {
   "cell_type": "markdown",
   "metadata": {
    "slideshow": {
     "slide_type": "subslide"
    }
   },
   "source": [
    "<font style=\"color:rgb(113,65,224)\">**Exercice 16**   \n",
    "Écrire une fonction ```suffixe(liste1, liste2)``` qui renvoie ```True``` si la liste ```liste1``` est un suffixe de la liste ```liste2```, c'est-à-dire si la liste ```liste2``` termine par les éléments de la liste ```liste1``` dans le même ordre.</font>"
   ]
  },
  {
   "cell_type": "code",
   "execution_count": null,
   "metadata": {
    "slideshow": {
     "slide_type": "fragment"
    }
   },
   "outputs": [],
   "source": [
    "# À vous de jouer"
   ]
  },
  {
   "cell_type": "markdown",
   "metadata": {
    "slideshow": {
     "slide_type": "subslide"
    }
   },
   "source": [
    "<font style=\"color:rgb(113,65,224)\">**Exercice 17**   \n",
    "Écrire une fonction ```hamming(liste1, liste2)``` qui prend en paramètres deux listes, que l'on supposera de même taille, et qui renvoie le nombre d'indices auxquels les deux listes diffèrent.</font>"
   ]
  },
  {
   "cell_type": "code",
   "execution_count": null,
   "metadata": {
    "slideshow": {
     "slide_type": "fragment"
    }
   },
   "outputs": [],
   "source": [
    "# À vous de jouer"
   ]
  },
  {
   "cell_type": "markdown",
   "metadata": {
    "slideshow": {
     "slide_type": "subslide"
    }
   },
   "source": [
    "<font style=\"color:rgb(113,65,224)\">**Exercice 18**   \n",
    "Reprendre l'exercice précédent, sans supposer que les listes ont la même taille. On considèrera qu'un indice auquel seul l'une des deux listes est définie compte pour une différence.</font>"
   ]
  },
  {
   "cell_type": "code",
   "execution_count": null,
   "metadata": {
    "slideshow": {
     "slide_type": "fragment"
    }
   },
   "outputs": [],
   "source": [
    "# À vous de jouer"
   ]
  },
  {
   "cell_type": "markdown",
   "metadata": {
    "slideshow": {
     "slide_type": "slide"
    }
   },
   "source": [
    "## 4. Les listes de listes<a id=\"listes-de-listes\"></a>"
   ]
  },
  {
   "cell_type": "markdown",
   "metadata": {
    "slideshow": {
     "slide_type": "subslide"
    }
   },
   "source": [
    "Les listes de Python peuvent contenir des valeurs arbitraires, en particulier d'autres listes : on peut donc créer des listes de listes."
   ]
  },
  {
   "cell_type": "code",
   "execution_count": null,
   "metadata": {
    "slideshow": {
     "slide_type": "fragment"
    }
   },
   "outputs": [],
   "source": [
    "# Un exemple\n",
    "M = [\n",
    "    [-1, 0, 3, 0, 0],\n",
    "    [-6, 1, 0, 4, 0],\n",
    "    [-9, 2, 1, 0, 5]\n",
    "]"
   ]
  },
  {
   "cell_type": "code",
   "execution_count": null,
   "metadata": {
    "slideshow": {
     "slide_type": "fragment"
    }
   },
   "outputs": [],
   "source": [
    "# M[0], M[1] et M[2] sont donc des listes\n",
    "# Essayer !\n",
    "M[0]"
   ]
  },
  {
   "cell_type": "markdown",
   "metadata": {
    "slideshow": {
     "slide_type": "subslide"
    }
   },
   "source": [
    "<font style=\"color:rgb(113,65,224)\">**Exercice 19**   \n",
    "Quelles commandes désignent les entiers $-9$, $4$ et $5$ ?</font>"
   ]
  },
  {
   "cell_type": "code",
   "execution_count": null,
   "metadata": {
    "slideshow": {
     "slide_type": "fragment"
    }
   },
   "outputs": [],
   "source": [
    "# À vous de jouer"
   ]
  },
  {
   "cell_type": "markdown",
   "metadata": {
    "slideshow": {
     "slide_type": "subslide"
    }
   },
   "source": [
    "<font style=\"color:rgb(113,65,224)\">**Exercice 20**</font>    \n",
    "<font style=\"color:rgb(113,65,224)\">\\hspace{3mm}1. Compléter le code suivant afin que la variable S contienne la somme des éléments de la liste ```M``` précédente. Ne pas utiliser ```in```.</font>"
   ]
  },
  {
   "cell_type": "code",
   "execution_count": null,
   "metadata": {
    "slideshow": {
     "slide_type": "fragment"
    }
   },
   "outputs": [],
   "source": [
    "S = 0\n",
    "pass"
   ]
  },
  {
   "cell_type": "markdown",
   "metadata": {
    "slideshow": {
     "slide_type": "subslide"
    }
   },
   "source": [
    "<font style=\"color:rgb(113,65,224)\">\\hspace{3mm}2. Même question, cette fois en utilisant ```in```.</font>"
   ]
  },
  {
   "cell_type": "code",
   "execution_count": null,
   "metadata": {
    "slideshow": {
     "slide_type": "fragment"
    }
   },
   "outputs": [],
   "source": [
    "S = 0\n",
    "pass"
   ]
  },
  {
   "cell_type": "markdown",
   "metadata": {
    "slideshow": {
     "slide_type": "subslide"
    }
   },
   "source": [
    "<font style=\"color:rgb(113,65,224)\">**Exercice 21**   \n",
    "Écrire un programme qui construit une liste de listes ```M``` de taille $11\\times 11$, tel que ```M[i][j]``` contient ```i```$\\times$```j```.</font>"
   ]
  },
  {
   "cell_type": "code",
   "execution_count": null,
   "metadata": {
    "slideshow": {
     "slide_type": "fragment"
    }
   },
   "outputs": [],
   "source": [
    "# À vous de jouer"
   ]
  },
  {
   "cell_type": "markdown",
   "metadata": {
    "slideshow": {
     "slide_type": "subslide"
    }
   },
   "source": [
    "<font style=\"color:rgb(113,65,224)\">**Exercice 22**   \n",
    "Écrire un programme qui transforme une liste ```L``` de $64$ cases en une liste de listes ```M```, de taille $8\\times 8$, telle que ```M[i][j] = L[8 * i + j]``` pour tout entier ```i``` et tout entier ```j``` appartenant à $[0;7]$.</font>"
   ]
  },
  {
   "cell_type": "code",
   "execution_count": null,
   "metadata": {
    "slideshow": {
     "slide_type": "fragment"
    }
   },
   "outputs": [],
   "source": [
    "# À vous de jouer"
   ]
  },
  {
   "cell_type": "markdown",
   "metadata": {
    "slideshow": {
     "slide_type": "subslide"
    }
   },
   "source": [
    "<font style=\"color:rgb(113,65,224)\">**Exercice 23**   \n",
    "Écrire un programme qui crée une liste de listes de taille $30\\times 30$ contenant des entiers tirés au hasard entre $1$ et $9999$, puis l'affiche.</font>"
   ]
  },
  {
   "cell_type": "code",
   "execution_count": null,
   "metadata": {
    "slideshow": {
     "slide_type": "fragment"
    }
   },
   "outputs": [],
   "source": [
    "# À vous de jouer"
   ]
  },
  {
   "cell_type": "markdown",
   "metadata": {
    "slideshow": {
     "slide_type": "subslide"
    }
   },
   "source": [
    "<font style=\"color:rgb(113,65,224)\">**Exercice 24**   \n",
    "Compléter le programme précédent pour calculer et afficher l'élément maximum de la liste de listes.</font>"
   ]
  },
  {
   "cell_type": "code",
   "execution_count": null,
   "metadata": {
    "slideshow": {
     "slide_type": "fragment"
    }
   },
   "outputs": [],
   "source": [
    "# À vous de jouer"
   ]
  },
  {
   "cell_type": "markdown",
   "metadata": {
    "slideshow": {
     "slide_type": "subslide"
    }
   },
   "source": [
    "<font style=\"color:rgb(113,65,224)\">**Exercice 25**   \n",
    "Écrire une fonction qui prend en paramètre une liste de listes (de \"hauteur\" et de \"largeur\" non nulles) et qui renvoie le maximum parmi les minima de chaque ligne.   \n",
    "*Indication : on pourra utiliser une fonction auxiliaire pour calculer le minimum de chaque ligne.*</font>"
   ]
  },
  {
   "cell_type": "code",
   "execution_count": null,
   "metadata": {
    "slideshow": {
     "slide_type": "fragment"
    }
   },
   "outputs": [],
   "source": [
    "# À vous de jouer"
   ]
  }
 ],
 "metadata": {
  "kernelspec": {
   "display_name": "Python 3 (ipykernel)",
   "language": "python",
   "name": "python3"
  },
  "language_info": {
   "codemirror_mode": {
    "name": "ipython",
    "version": 3
   },
   "file_extension": ".py",
   "mimetype": "text/x-python",
   "name": "python",
   "nbconvert_exporter": "python",
   "pygments_lexer": "ipython3",
   "version": "3.9.9"
  },
  "latex_envs": {
   "LaTeX_envs_menu_present": true,
   "autoclose": false,
   "autocomplete": true,
   "bibliofile": "biblio.bib",
   "cite_by": "apalike",
   "current_citInitial": 1,
   "eqLabelWithNumbers": true,
   "eqNumInitial": 1,
   "hotkeys": {
    "equation": "Ctrl-E",
    "itemize": "Ctrl-I"
   },
   "labels_anchors": false,
   "latex_user_defs": false,
   "report_style_numbering": false,
   "user_envs_cfg": false
  },
  "rise": {
   "scroll": true
  }
 },
 "nbformat": 4,
 "nbformat_minor": 2
}
