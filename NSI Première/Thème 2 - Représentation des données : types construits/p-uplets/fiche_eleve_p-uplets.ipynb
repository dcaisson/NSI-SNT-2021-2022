{
 "cells": [
  {
   "cell_type": "markdown",
   "metadata": {
    "slideshow": {
     "slide_type": "-"
    }
   },
   "source": [
    "# Fiche élève &ndash; Les p-uplets (ou tuples) en Python"
   ]
  },
  {
   "cell_type": "markdown",
   "metadata": {
    "slideshow": {
     "slide_type": "skip"
    }
   },
   "source": [
    "## Sommaire \n",
    "[**1. Définition et opérations**](#definition-operations)  \n",
    "&nbsp;&nbsp;&nbsp;&nbsp;[1.1 Définition](#definition)  \n",
    "&nbsp;&nbsp;&nbsp;&nbsp;[1.2 Créer un p-uplet](#creer-p-uplet)  \n",
    "&nbsp;&nbsp;&nbsp;&nbsp;[1.3 Similarités avec les listes](#similarites-avec-listes)  \n",
    "&nbsp;&nbsp;&nbsp;&nbsp;[1.4 Différences avec les listes](#differences-avec-listes)  \n",
    "[**2. Exercices**](#exercices)  \n",
    "&nbsp;&nbsp;&nbsp;&nbsp;[Exercice 1](#exercice-1)  \n",
    "&nbsp;&nbsp;&nbsp;&nbsp;[Exercice 2](#exercice-2)"
   ]
  },
  {
   "cell_type": "markdown",
   "metadata": {
    "slideshow": {
     "slide_type": "slide"
    }
   },
   "source": [
    "## 1. Définition et opérations<a id=\"definition-operations\"></a>"
   ]
  },
  {
   "cell_type": "markdown",
   "metadata": {
    "slideshow": {
     "slide_type": "slide"
    }
   },
   "source": [
    "### 1.1 Définition<a id=\"definition\"></a>\n",
    "Un objet de type **tuple**, un **p-uplet**, est une suite ordonnée d’éléments qui peuvent être chacun de n’importe quel type. On parlera indifféremment de **p-uplet** ou de **tuple**.\n",
    "\n",
    "Un **p-uplet** est utilisé comme **enregistrement** de données hétérogènes qui sont liées entre elles, par exemple pour une ville : (nom, code postal, latitude, longitude)."
   ]
  },
  {
   "cell_type": "code",
   "execution_count": 1,
   "metadata": {
    "slideshow": {
     "slide_type": "subslide"
    }
   },
   "outputs": [],
   "source": [
    "# Exemple de p-uplet\n",
    "ma_ville = (\"Papeete\", 98714, -17.53, -149.57)"
   ]
  },
  {
   "cell_type": "markdown",
   "metadata": {},
   "source": [
    "### 1.2 Créer un p-uplet<a id=\"creer-p-uplet\"></a>\n",
    "En Python, un **p-uplet** est un objet de type ``tuple``. Pour définir un p-uplet, on écrit entre parenthèses la séquence ordonnée des éléments qu'il contient."
   ]
  },
  {
   "cell_type": "markdown",
   "metadata": {},
   "source": [
    "### 1.3 Similarités avec les listes<a id=\"similarites-avec-listes\"></a>"
   ]
  },
  {
   "cell_type": "markdown",
   "metadata": {},
   "source": [
    "#### Aliasing"
   ]
  },
  {
   "attachments": {},
   "cell_type": "markdown",
   "metadata": {},
   "source": [
    "Un objet de type ``tuple`` partage de nombreuses propriétés avec les objets de type ``list``. En particulier, sa valeur est une référence vers la zone mémoire où est stockée la séquence d'objets. \n",
    "\n",
    "![aliasing](img/aliasing.png)"
   ]
  },
  {
   "cell_type": "markdown",
   "metadata": {},
   "source": [
    "#### Accès aux éléments d'un p-uplet"
   ]
  },
  {
   "cell_type": "markdown",
   "metadata": {},
   "source": [
    "On peut accéder aux éléments d'un p-uplet de la même façon qu'avec des listes :"
   ]
  },
  {
   "cell_type": "code",
   "execution_count": 2,
   "metadata": {},
   "outputs": [
    {
     "data": {
      "text/plain": [
       "98714"
      ]
     },
     "execution_count": 2,
     "metadata": {},
     "output_type": "execute_result"
    }
   ],
   "source": [
    "ma_ville[1]"
   ]
  },
  {
   "cell_type": "markdown",
   "metadata": {},
   "source": [
    "#### Taille d'un p-uplet"
   ]
  },
  {
   "cell_type": "code",
   "execution_count": 3,
   "metadata": {},
   "outputs": [
    {
     "data": {
      "text/plain": [
       "4"
      ]
     },
     "execution_count": 3,
     "metadata": {},
     "output_type": "execute_result"
    }
   ],
   "source": [
    "len(ma_ville)"
   ]
  },
  {
   "cell_type": "markdown",
   "metadata": {},
   "source": [
    "#### Parcourir un p-uplet"
   ]
  },
  {
   "cell_type": "code",
   "execution_count": 4,
   "metadata": {},
   "outputs": [
    {
     "name": "stdout",
     "output_type": "stream",
     "text": [
      "Indice : 0, valeur : Papeete\n",
      "Indice : 1, valeur : 98714\n",
      "Indice : 2, valeur : -17.53\n",
      "Indice : 3, valeur : -149.57\n"
     ]
    }
   ],
   "source": [
    "for i in range(len(ma_ville)):\n",
    "    print(f\"Indice : {i}, valeur : {ma_ville[i]}\")"
   ]
  },
  {
   "cell_type": "markdown",
   "metadata": {},
   "source": [
    "#### Appartenance"
   ]
  },
  {
   "cell_type": "code",
   "execution_count": 5,
   "metadata": {},
   "outputs": [],
   "source": [
    "mes_villes_preferees = (\"Papeete\", \"Paris\", \"Barcelone\", \"Auckland\", \"Las Vegas\")"
   ]
  },
  {
   "cell_type": "code",
   "execution_count": 6,
   "metadata": {},
   "outputs": [
    {
     "data": {
      "text/plain": [
       "True"
      ]
     },
     "execution_count": 6,
     "metadata": {},
     "output_type": "execute_result"
    }
   ],
   "source": [
    "\"Las Vegas\" in mes_villes_preferees"
   ]
  },
  {
   "cell_type": "code",
   "execution_count": 7,
   "metadata": {
    "scrolled": true
   },
   "outputs": [
    {
     "data": {
      "text/plain": [
       "False"
      ]
     },
     "execution_count": 7,
     "metadata": {},
     "output_type": "execute_result"
    }
   ],
   "source": [
    "\"Sydney\" in mes_villes_preferees"
   ]
  },
  {
   "cell_type": "markdown",
   "metadata": {},
   "source": [
    "### 1.4 Différences avec les listes<a id=\"differences-avec-listes\"></a>"
   ]
  },
  {
   "cell_type": "markdown",
   "metadata": {},
   "source": [
    "Les objets de type ``tuple`` diffèrent de ceux de type ``list`` car ils ne peuvent être modifiés une fois qu'ils sont créés : on dit qu'ils sont **immutables**. Ils partagent cette prorpriété avec les chaînes de caractères de type ``str``.  \n",
    "\n",
    "En particulier, on ne peut pas ajouter des éléments à un p-uplet comme pour un tableau avec la méthode ``append``."
   ]
  },
  {
   "cell_type": "code",
   "execution_count": 8,
   "metadata": {},
   "outputs": [
    {
     "ename": "TypeError",
     "evalue": "'tuple' object does not support item assignment",
     "output_type": "error",
     "traceback": [
      "\u001b[0;31m---------------------------------------------------------------------------\u001b[0m",
      "\u001b[0;31mTypeError\u001b[0m                                 Traceback (most recent call last)",
      "\u001b[0;32m/tmp/ipykernel_10726/797734129.py\u001b[0m in \u001b[0;36m<module>\u001b[0;34m\u001b[0m\n\u001b[1;32m      1\u001b[0m \u001b[0;31m# un p-uplet est immutable\u001b[0m\u001b[0;34m\u001b[0m\u001b[0;34m\u001b[0m\u001b[0m\n\u001b[0;32m----> 2\u001b[0;31m \u001b[0mmes_villes_preferees\u001b[0m\u001b[0;34m[\u001b[0m\u001b[0;36m0\u001b[0m\u001b[0;34m]\u001b[0m \u001b[0;34m=\u001b[0m \u001b[0;34m\"Sydney\"\u001b[0m\u001b[0;34m\u001b[0m\u001b[0;34m\u001b[0m\u001b[0m\n\u001b[0m",
      "\u001b[0;31mTypeError\u001b[0m: 'tuple' object does not support item assignment"
     ]
    }
   ],
   "source": [
    "# un p-uplet est immutable\n",
    "mes_villes_preferees[0] = \"Sydney\""
   ]
  },
  {
   "cell_type": "code",
   "execution_count": null,
   "metadata": {
    "scrolled": true
   },
   "outputs": [],
   "source": [
    "# on ne peut pas utiliser append de la même façon qu'avec les listes\n",
    "mes_villes_preferees.append(\"Sydney\")"
   ]
  },
  {
   "cell_type": "markdown",
   "metadata": {},
   "source": [
    "## 2. Exercices<a id=\"exercices\"></a>"
   ]
  },
  {
   "cell_type": "markdown",
   "metadata": {},
   "source": [
    "### Exercice 1<a id=\"exercice-1\"></a>"
   ]
  },
  {
   "cell_type": "markdown",
   "metadata": {},
   "source": [
    "Dans le plan muni d'un repère orthonormé, on représente chaque par le p-uplet de ses coordonnées : ``(abscisse, ordonnee)`` :"
   ]
  },
  {
   "cell_type": "code",
   "execution_count": null,
   "metadata": {},
   "outputs": [],
   "source": [
    "M = (1, 2)\n",
    "N = (3, 4)"
   ]
  },
  {
   "cell_type": "markdown",
   "metadata": {},
   "source": [
    "Compléter la fonction ci-dessous afin que ``milieu(A, B)`` retourne le p-uplet des coordonnées du milieu du segment $[AB]$."
   ]
  },
  {
   "cell_type": "code",
   "execution_count": null,
   "metadata": {},
   "outputs": [],
   "source": [
    "def milieu(A, B):\n",
    "    pass"
   ]
  },
  {
   "cell_type": "markdown",
   "metadata": {},
   "source": [
    "### Exercice 2<a id=\"exercice-2\"></a>"
   ]
  },
  {
   "cell_type": "markdown",
   "metadata": {},
   "source": [
    "Écrire une fonction ``longueurs(A, B, C)`` qui prend en paramètres trois points (trois p-uplets) ``A``, ``B`` et ``C`` et retourne le triplet des longueurs des côtés $[AB]$, $[AC]$ et $[BC]$."
   ]
  },
  {
   "cell_type": "code",
   "execution_count": 9,
   "metadata": {},
   "outputs": [],
   "source": [
    "# À vous de jouer !"
   ]
  }
 ],
 "metadata": {
  "kernelspec": {
   "display_name": "Python 3 (ipykernel)",
   "language": "python",
   "name": "python3"
  },
  "language_info": {
   "codemirror_mode": {
    "name": "ipython",
    "version": 3
   },
   "file_extension": ".py",
   "mimetype": "text/x-python",
   "name": "python",
   "nbconvert_exporter": "python",
   "pygments_lexer": "ipython3",
   "version": "3.9.9"
  },
  "latex_envs": {
   "LaTeX_envs_menu_present": true,
   "autoclose": false,
   "autocomplete": true,
   "bibliofile": "biblio.bib",
   "cite_by": "apalike",
   "current_citInitial": 1,
   "eqLabelWithNumbers": true,
   "eqNumInitial": 1,
   "hotkeys": {
    "equation": "Ctrl-E",
    "itemize": "Ctrl-I"
   },
   "labels_anchors": false,
   "latex_user_defs": false,
   "report_style_numbering": false,
   "user_envs_cfg": false
  },
  "rise": {
   "scroll": true
  }
 },
 "nbformat": 4,
 "nbformat_minor": 2
}
