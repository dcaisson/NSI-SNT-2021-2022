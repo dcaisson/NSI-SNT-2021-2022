{
 "cells": [
  {
   "cell_type": "markdown",
   "metadata": {},
   "source": [
    "# Boîte à outils Python"
   ]
  },
  {
   "cell_type": "markdown",
   "metadata": {},
   "source": [
    "## 1. Notebooks Jupyter\n",
    "Ce fichier est un notebook Jupyter. Les cellules qui le composent peuvent contenir :\n",
    "- du texte au format Markdown ;\n",
    "- du code Python (par exemple).  \n",
    "\n",
    "Pour exécuter la cellule courante, on utilise ``Maj+Entrée`` (la cellule courante est exécutée et la cellule qui se trouve en-dessous sélectionnée, ou créée) ou ``Ctrl+Entrée`` (la cellule courante est exécutée).\n",
    "\n",
    "L'installation de Jupyter Notebook peut se faire grâce à [Anaconda](https://www.anaconda.com/)."
   ]
  },
  {
   "cell_type": "markdown",
   "metadata": {},
   "source": [
    "## 2. Opérations de base\n",
    "\n",
    "| Python    | Opération|\n",
    "|:--------:\t|:--------------------------------:\t|\n",
    "|  ``a+b`` \t|        Somme de $a$ et $b$       \t|\n",
    "|  ``a-b`` \t|    Différence entre $a$ et $b$   \t|\n",
    "|  ``a*b`` \t|      Produit de $a$ par $b$      \t|\n",
    "|  ``a/b`` \t|      Division de $a$ par $b$     \t|\n",
    "| ``a**n`` \t| Élévation de $a$ à la puissance $n$ : $a^n$ \t|\n",
    "| ``a//b`` \t| Quotient de la division euclidienne de $a$ par $b$ \t|\n",
    "|  ``a%b`` \t|   Reste de la division euclidienne de $a$ par $b$  \t|"
   ]
  },
  {
   "cell_type": "markdown",
   "metadata": {},
   "source": [
    "### **Exercice 1**\n",
    "Julian possède $453$ billes qu'il souhaite répartir équitablement entre ses $12$ camarades de NSI.\n",
    "1. En posant une division, répondre aux questions suivantes :\n",
    "  - Julian arrivera-t-il à répartir toutes ses billes ?\n",
    "  - Dans le cas contraire, quel est le nombre maximum de billes qu'il pourra offrir à chacun de ses camarades ? Combien de billes lui restera-t-il ?\n",
    "2. Vérifier les réponses précédentes à l'aide de Python."
   ]
  },
  {
   "cell_type": "code",
   "execution_count": null,
   "metadata": {},
   "outputs": [],
   "source": [
    "453 // 12"
   ]
  },
  {
   "cell_type": "code",
   "execution_count": null,
   "metadata": {},
   "outputs": [],
   "source": [
    "453 % 12"
   ]
  },
  {
   "cell_type": "markdown",
   "metadata": {},
   "source": [
    "## 3. Opérateurs de comparaison\n",
    "\n",
    "| Opérateur \t|      Comparaison      \t|\n",
    "|:---------:\t|:---------------------:\t|\n",
    "|   ``<``   \t| strictement inférieur \t|\n",
    "|   ``<=``  \t|   inférieur ou égal   \t|\n",
    "|   ``>``   \t| strictement supérieur \t|\n",
    "|   ``>=``  \t|   supérieur ou égal   \t|\n",
    "|   ``==``  \t|          égal         \t|\n",
    "|   ``!=``  \t|       différent       \t|"
   ]
  },
  {
   "cell_type": "code",
   "execution_count": null,
   "metadata": {},
   "outputs": [],
   "source": [
    "3 == 1 + 2"
   ]
  },
  {
   "cell_type": "code",
   "execution_count": null,
   "metadata": {},
   "outputs": [],
   "source": [
    "3 < 2"
   ]
  },
  {
   "cell_type": "markdown",
   "metadata": {},
   "source": [
    "## 4. Variables, affectation, ``print()`` et ``input()``\n",
    "L'affectation d'une valeur à une variable se fait grâce à ``=``. À ne pas confondre avec ``==`` qui permet de tester l'égalité."
   ]
  },
  {
   "cell_type": "code",
   "execution_count": null,
   "metadata": {},
   "outputs": [],
   "source": [
    "a = 5\n",
    "b = 3\n",
    "c = a + b\n",
    "d = a - b\n",
    "e = a**b\n",
    "print(c)\n",
    "print(d)\n",
    "print(e)"
   ]
  },
  {
   "cell_type": "markdown",
   "metadata": {},
   "source": [
    "La fonction ``print()`` permet l'affichage du contenu d'une variable, du résultat d'un calcul, d'une chaîne de caractères etc. On peut l'utiliser avec plusieurs arguments :"
   ]
  },
  {
   "cell_type": "code",
   "execution_count": null,
   "metadata": {},
   "outputs": [],
   "source": [
    "t = 10\n",
    "print(t, t**2, t**3)"
   ]
  },
  {
   "cell_type": "markdown",
   "metadata": {},
   "source": [
    "La fonction ``input()`` provoque une interruption dans le programme courant. L'utilisateur est invité à entrer des caractères au clavier et à terminer avec ``Entrée``. Lorsque cette touche est enfoncée, le programme se poursuit, et la fonction fournit en retour une **chaîne de caractères** correspondant à ce que l'utilisateur a saisi :"
   ]
  },
  {
   "cell_type": "code",
   "execution_count": null,
   "metadata": {},
   "outputs": [],
   "source": [
    "prenom = input(\"Entre ton prénom : \")\n",
    "print(\"Bonjour\", prenom, \"!\")"
   ]
  },
  {
   "cell_type": "markdown",
   "metadata": {},
   "source": [
    "### **Exercice 2**\n",
    "1. Pourquoi le code ci-dessous produit-il une erreur ?\n",
    "2. Lire la documentation de la fonction ``int()``.\n",
    "3. Corriger alors le code proposé afin qu'il produise l'effet attendu."
   ]
  },
  {
   "cell_type": "code",
   "execution_count": null,
   "metadata": {},
   "outputs": [],
   "source": [
    "n = input(\"Entrer un nombre entre 1 et 20 : \")\n",
    "carre = n ** 2\n",
    "print(\"Le carré du nombre entré est\", carre)"
   ]
  },
  {
   "cell_type": "markdown",
   "metadata": {},
   "source": [
    "## 5. Instruction conditionnelle ``if``\n",
    "\n",
    "- **Syntaxe 1**\n",
    "\n",
    "```python\n",
    "if condition:\n",
    "    bloc d instructions\n",
    "```"
   ]
  },
  {
   "cell_type": "code",
   "execution_count": null,
   "metadata": {},
   "outputs": [],
   "source": [
    "a = 120\n",
    "if a > 100:\n",
    "    print(\"Vous avez dépassé 100 !\")"
   ]
  },
  {
   "cell_type": "markdown",
   "metadata": {},
   "source": [
    "- **Syntaxe 2**\n",
    "\n",
    "```python\n",
    "if condition:\n",
    "    bloc d instructions\n",
    "else:\n",
    "    bloc d instructions\n",
    "```"
   ]
  },
  {
   "cell_type": "code",
   "execution_count": null,
   "metadata": {},
   "outputs": [],
   "source": [
    "a = 20\n",
    "if a > 100:\n",
    "    print(\"Vous avez dépassé 100 !\")\n",
    "else :\n",
    "    print(\"Vous n'avez pas dépassé 100 !\")"
   ]
  },
  {
   "cell_type": "markdown",
   "metadata": {},
   "source": [
    "### **Exercice 3**\n",
    "Écrire un programme qui demande à l'utilisateur son nom et son sexe (M ou F) et qui affiche \"Cher Monsieur\" ou \"Chère Mademoiselle\" suivi du nom de la personne."
   ]
  },
  {
   "cell_type": "markdown",
   "metadata": {},
   "source": [
    "- **Syntaxe 3**\n",
    "\n",
    "```python\n",
    "if condition:\n",
    "    bloc d instructions\n",
    "elif condition:\n",
    "    bloc d instructions\n",
    "else:\n",
    "    bloc d instructions\n",
    "```\n",
    "\n",
    "Dans cette construction, on peut écrire autant de ``elif`` qu'on veut, et le ``else`` final est optionnel."
   ]
  },
  {
   "cell_type": "code",
   "execution_count": null,
   "metadata": {},
   "outputs": [],
   "source": [
    "a = 10\n",
    "if a > 0:\n",
    "    print(\"a est strictement positif.\")\n",
    "elif a < 0:\n",
    "    print(\"a est strictement négatif.\")\n",
    "else:\n",
    "    print(\"a vaut zéro.\")"
   ]
  },
  {
   "cell_type": "markdown",
   "metadata": {},
   "source": [
    "### **Exercice 4**\n",
    "Écrire un programme qui demande à l'utilisateur les coefficients $a$, $b$ et $c$ d'un trinôme du second degré et qui affiche le nombre de racines de ce dernier."
   ]
  },
  {
   "cell_type": "code",
   "execution_count": null,
   "metadata": {},
   "outputs": [],
   "source": [
    "a = float(input(\"Entrer a : \")) # float() permet la conversion en float, type qui permet de représenter les réels\n",
    "pass"
   ]
  },
  {
   "cell_type": "markdown",
   "metadata": {},
   "source": [
    "## 6. Boucle ``for``\n",
    "\n",
    "- **Syntaxe simple**\n",
    "\n",
    "```python\n",
    "for i in range(entier):\n",
    "    bloc d instructions\n",
    "```"
   ]
  },
  {
   "cell_type": "code",
   "execution_count": null,
   "metadata": {},
   "outputs": [],
   "source": [
    "for i in range(5): # i prend les valeurs entières de 0 à 4 ! (il y en a 5)\n",
    "    print(i)"
   ]
  },
  {
   "cell_type": "markdown",
   "metadata": {},
   "source": [
    "- **Autre syntaxe : avec deux bornes**\n",
    "\n",
    "```python\n",
    "for i in range(debut, fin):\n",
    "    bloc d instructions\n",
    "```"
   ]
  },
  {
   "cell_type": "code",
   "execution_count": null,
   "metadata": {},
   "outputs": [],
   "source": [
    "for i in range(3, 10): # i prend les valeurs entières de 3 à 9 (et non 10) !\n",
    "    print(i)"
   ]
  },
  {
   "cell_type": "markdown",
   "metadata": {},
   "source": [
    "### **Exercice 5**\n",
    "Compléter le programme ci-dessous afin qu'il affiche la table de multiplication de l'entier $a$ saisi par l'utilisateur."
   ]
  },
  {
   "cell_type": "code",
   "execution_count": null,
   "metadata": {},
   "outputs": [],
   "source": [
    "a = int(input(\"Choisir un entier compris entre 1 et 10 : \"))\n",
    "pass"
   ]
  },
  {
   "cell_type": "markdown",
   "metadata": {},
   "source": [
    "- **Autre syntaxe : avec deux bornes et un pas**\n",
    "\n",
    "```python\n",
    "for i in range(debut, fin, pas):\n",
    "    bloc d instructions\n",
    "```"
   ]
  },
  {
   "cell_type": "code",
   "execution_count": null,
   "metadata": {},
   "outputs": [],
   "source": [
    "for i in range(4, 12, 2): # i prend les valeurs 4, 6, 8, 10 \n",
    "    print(i)"
   ]
  },
  {
   "cell_type": "markdown",
   "metadata": {},
   "source": [
    "Le pas peut être négatif :"
   ]
  },
  {
   "cell_type": "code",
   "execution_count": null,
   "metadata": {
    "scrolled": true
   },
   "outputs": [],
   "source": [
    "for j in range(20, 8, -3): # j prend les valeurs 20, 17, 14, 11\n",
    "    print(j)"
   ]
  },
  {
   "cell_type": "markdown",
   "metadata": {},
   "source": [
    "## 7. Boucle ``while``\n",
    "\n",
    "- **Syntaxe**\n",
    "\n",
    "```python\n",
    "while condition:\n",
    "    bloc d instructions\n",
    "```"
   ]
  },
  {
   "cell_type": "code",
   "execution_count": null,
   "metadata": {},
   "outputs": [],
   "source": [
    "n = 0\n",
    "while n < 3 :\n",
    "    print(\"n =\", n, \"Hello !\")\n",
    "    n = n + 1"
   ]
  },
  {
   "cell_type": "markdown",
   "metadata": {},
   "source": [
    "### **Exercice 6**\n",
    "Écrire un programme qui affiche le premier carré supérieur ou égal à un entier $a$ saisi par l'utilisateur."
   ]
  },
  {
   "cell_type": "markdown",
   "metadata": {},
   "source": [
    "## 8. Les chaînes de caractères\n",
    "La fonction ``len()`` permet d'obtenir la longueur (le nombre de caractères) d'une chaîne de caractères :"
   ]
  },
  {
   "cell_type": "code",
   "execution_count": null,
   "metadata": {},
   "outputs": [],
   "source": [
    "ch = \"Wells\"\n",
    "print(len(ch))"
   ]
  },
  {
   "cell_type": "markdown",
   "metadata": {},
   "source": [
    "Le premier caractère de ``ch`` est ``ch[0]``, le dernier caractère ``ch[4]`` :"
   ]
  },
  {
   "cell_type": "code",
   "execution_count": null,
   "metadata": {},
   "outputs": [],
   "source": [
    "print(ch[0])\n",
    "print(ch[1])\n",
    "print(ch[4])"
   ]
  },
  {
   "cell_type": "markdown",
   "metadata": {},
   "source": [
    "On concatène facilement des chaînes de caractères à l'aide de ``+`` :"
   ]
  },
  {
   "cell_type": "code",
   "execution_count": null,
   "metadata": {},
   "outputs": [],
   "source": [
    "ch1 = \"Wells\"\n",
    "ch2 = \" - \"\n",
    "ch3 = \"La Guerre des Mondes\"\n",
    "titre = ch1 + ch2 + ch3\n",
    "print(titre)"
   ]
  },
  {
   "cell_type": "markdown",
   "metadata": {},
   "source": [
    "### **Exercice 7**\n",
    "Compléter le programme ci-dessous afin qu'il affiche le nombre de \"e\" dans une phrase saisie par l'utilisateur."
   ]
  },
  {
   "cell_type": "code",
   "execution_count": null,
   "metadata": {},
   "outputs": [],
   "source": [
    "phrase = input(\"Entrer une phrase : \")\n",
    "nombre_de_e = 0\n",
    "longueur = len(phrase)\n",
    "pass"
   ]
  },
  {
   "cell_type": "markdown",
   "metadata": {},
   "source": [
    "### **Exercice 8**\n",
    "Compléter le programme ci-dessous afin qu'il affiche la chaîne obtenue en inversant la chaîne saisie par l'utilisateur. Ainsi, par exemple, le programme affichera \"vomisA caasI\" lorsque l'utilisateur saisira \"Isaac Asimov\"."
   ]
  },
  {
   "cell_type": "code",
   "execution_count": null,
   "metadata": {},
   "outputs": [],
   "source": [
    "phrase = input(\"Entrer une chaîne : \")\n",
    "longueur = len(phrase)\n",
    "inverse = \"\"\n",
    "pass"
   ]
  },
  {
   "cell_type": "markdown",
   "metadata": {},
   "source": [
    "## 9. Définir une fonction\n",
    "\n",
    "- **Syntaxe**\n",
    "\n",
    "```python\n",
    "def nom_de_la_fonction(parametre1, parametre2, ...):\n",
    "    bloc d instructions\n",
    "    return resultat\n",
    "```"
   ]
  },
  {
   "cell_type": "code",
   "execution_count": null,
   "metadata": {},
   "outputs": [],
   "source": [
    "def carre(x):\n",
    "    return(x**2)\n",
    "\n",
    "a = carre(5)\n",
    "print(a)"
   ]
  },
  {
   "cell_type": "markdown",
   "metadata": {},
   "source": [
    "### **Exercice 9**\n",
    "Écrire une procédure qui demande à l'utilisateur de saisir un nombre, puis qui affiche si le nombre choisi est positif ou négatif."
   ]
  },
  {
   "cell_type": "code",
   "execution_count": null,
   "metadata": {},
   "outputs": [],
   "source": [
    "def signe():\n",
    "    pass\n",
    "\n",
    "signe()"
   ]
  },
  {
   "cell_type": "markdown",
   "metadata": {},
   "source": [
    "### **Exercice 10**\n",
    "Écrire une procédure qui demande à l'utilisateur de saisir un nombre, puis qui affiche si le nombre choisi est pair ou impair."
   ]
  },
  {
   "cell_type": "code",
   "execution_count": null,
   "metadata": {},
   "outputs": [],
   "source": [
    "def parite():\n",
    "    pass"
   ]
  },
  {
   "cell_type": "markdown",
   "metadata": {},
   "source": [
    "### **Exercice 11**\n",
    "1. Écrire une fonction qui prend en paramètres les dimensions d'un rectangle, puis qui retourne l'aire du rectangle.\n",
    "2. Écrire une fonction qui prend en paramètres les dimensions d'un pavé droit, puis qui retourne le volume du pavé."
   ]
  },
  {
   "cell_type": "code",
   "execution_count": null,
   "metadata": {},
   "outputs": [],
   "source": [
    "def aire_rectangle(longueur, largeur):\n",
    "    pass"
   ]
  },
  {
   "cell_type": "code",
   "execution_count": null,
   "metadata": {},
   "outputs": [],
   "source": [
    "def volume_pave(L, l, h):\n",
    "    pass"
   ]
  },
  {
   "cell_type": "markdown",
   "metadata": {},
   "source": [
    "### **Exercice 12**\n",
    "Écrire une procédure qui demande à l'utilisateur de saisir un nombre entier, puis qui affiche la liste des $10$ entiers suivants."
   ]
  },
  {
   "cell_type": "code",
   "execution_count": null,
   "metadata": {},
   "outputs": [],
   "source": [
    "def dix_entiers_suivants():\n",
    "    pass"
   ]
  },
  {
   "cell_type": "markdown",
   "metadata": {},
   "source": [
    "### **Exercice 13**\n",
    "Écrire une procédure qui demande à l'utilisateur de saisir un nombre entier naturel $n$, puis qui affiche la liste des multiples de $12$ compris entre $0$ et $n$."
   ]
  },
  {
   "cell_type": "code",
   "execution_count": null,
   "metadata": {},
   "outputs": [],
   "source": [
    "def multiples_douze():\n",
    "    pass"
   ]
  },
  {
   "cell_type": "markdown",
   "metadata": {},
   "source": [
    "### **Exercice 14**\n",
    "Écrire une fonction qui prend en paramètre un entier naturel $n$, puis qui retourne la plus grande puissance de $2$ inférieure ou égale à $n$."
   ]
  },
  {
   "cell_type": "code",
   "execution_count": null,
   "metadata": {},
   "outputs": [],
   "source": [
    "def plus_grande_puissance_de_deux(n):\n",
    "    pass"
   ]
  },
  {
   "cell_type": "markdown",
   "metadata": {},
   "source": [
    "### **Exercice 15**\n",
    "Écrire une fonction qui détermine si une chaîne de caractères est un palindrome (c'est-à-dire une chaîne qui peut se lire indifféremment dans les deux sens). La fonction renverra ``True`` lorsque la chaîne donnée en argument est un palindrome, ``False`` dans le cas contraire."
   ]
  },
  {
   "cell_type": "code",
   "execution_count": null,
   "metadata": {},
   "outputs": [],
   "source": [
    "def est_palindrome(chaine):\n",
    "    \"\"\"chaine est une chaine de caractères\n",
    "    La fonction retourne :\n",
    "    - True si la chaine est un palindrome ;\n",
    "    - False sinon.\n",
    "    \"\"\"\n",
    "    pass"
   ]
  }
 ],
 "metadata": {
  "kernelspec": {
   "display_name": "Python 3",
   "language": "python",
   "name": "python3"
  },
  "language_info": {
   "codemirror_mode": {
    "name": "ipython",
    "version": 3
   },
   "file_extension": ".py",
   "mimetype": "text/x-python",
   "name": "python",
   "nbconvert_exporter": "python",
   "pygments_lexer": "ipython3",
   "version": "3.8.10"
  },
  "latex_envs": {
   "LaTeX_envs_menu_present": true,
   "autoclose": false,
   "autocomplete": true,
   "bibliofile": "biblio.bib",
   "cite_by": "apalike",
   "current_citInitial": 1,
   "eqLabelWithNumbers": true,
   "eqNumInitial": 1,
   "hotkeys": {
    "equation": "Ctrl-E",
    "itemize": "Ctrl-I"
   },
   "labels_anchors": false,
   "latex_user_defs": false,
   "report_style_numbering": false,
   "user_envs_cfg": false
  }
 },
 "nbformat": 4,
 "nbformat_minor": 4
}
