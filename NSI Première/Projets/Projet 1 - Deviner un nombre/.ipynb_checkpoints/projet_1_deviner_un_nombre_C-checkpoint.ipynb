{
 "cells": [
  {
   "cell_type": "markdown",
   "metadata": {},
   "source": [
    "# Mini-projet : deviner un nombre compris entre 1 et 100 &ndash; Éléments de correction"
   ]
  },
  {
   "cell_type": "markdown",
   "metadata": {},
   "source": [
    "## 1. La fonction `import` et le module `random`"
   ]
  },
  {
   "cell_type": "markdown",
   "metadata": {},
   "source": [
    "1. En effectuant des recherches sur le web, décrire brièvement la fonction `import` de Python.   \n",
    "2. Essayer alors le code ci-dessous (exécuter la cellule plusieurs fois), puis expliquer ce que fait la fonction `randint` de Python."
   ]
  },
  {
   "cell_type": "code",
   "execution_count": null,
   "metadata": {},
   "outputs": [],
   "source": [
    "from random import randint # Première ligne à expliquer\n",
    "a = randint(1, 100) # Seconde ligne à expliquer\n",
    "print(a)"
   ]
  },
  {
   "cell_type": "markdown",
   "metadata": {},
   "source": [
    "## 2. Le type booléen `bool`"
   ]
  },
  {
   "cell_type": "markdown",
   "metadata": {},
   "source": [
    "Un type en informatique, est un ensemble de valeurs, doté d'opérations. Python (depuis la version 2.3) dispose d'un type ``bool`` (booléen) qui est un ensemble de deux valeurs : ``True`` et ``False``.\n",
    "\n",
    "1. Essayer les 3 exemples ci-dessous."
   ]
  },
  {
   "cell_type": "code",
   "execution_count": null,
   "metadata": {},
   "outputs": [],
   "source": [
    "b = True\n",
    "if b:\n",
    "    print(\"Python, c'est chouette !\")"
   ]
  },
  {
   "cell_type": "code",
   "execution_count": null,
   "metadata": {},
   "outputs": [],
   "source": [
    "c = False\n",
    "if c:\n",
    "    print(\"Python, c'est chouette !\")"
   ]
  },
  {
   "cell_type": "code",
   "execution_count": null,
   "metadata": {},
   "outputs": [],
   "source": [
    "d = False\n",
    "if not d:\n",
    "    print(\"Python, c'est chouette !\")"
   ]
  },
  {
   "cell_type": "markdown",
   "metadata": {},
   "source": [
    "2. Lire attentivement le code ci-dessous, puis l'essayer.\n",
    "3. À la ligne 7, à quoi est égale l'expression booléenne `not gagne` ?"
   ]
  },
  {
   "cell_type": "code",
   "execution_count": null,
   "metadata": {},
   "outputs": [],
   "source": [
    "gagne = False\n",
    "n = 1\n",
    "\n",
    "while not gagne:\n",
    "    print(f\"n = {n}, pas encore gagné !\")\n",
    "    n = n + 1\n",
    "    if n == 10:\n",
    "        gagne = True\n",
    "\n",
    "print(f\"n = {n}, c'est gagné !\")"
   ]
  },
  {
   "cell_type": "markdown",
   "metadata": {},
   "source": [
    "## 3. Le jeu !"
   ]
  },
  {
   "cell_type": "markdown",
   "metadata": {},
   "source": [
    "On souhaite programmer le jeu suivant :\n",
    "- un nombre (entier) N compris entre 1 et 100 est choisi au hasard ;\n",
    "- le joueur propose un entier jusqu'à ce qu'il trouve N ;\n",
    "- à chaque proposition du joueur, un des messages suivants s'affiche :\n",
    "  - `Le nombre à deviner est plus grand !`\n",
    "  - `Le nombre à deviner est plus petit !`\n",
    "  - `Bravo ! Vous avez trouvé !`"
   ]
  },
  {
   "cell_type": "code",
   "execution_count": null,
   "metadata": {},
   "outputs": [],
   "source": [
    "N = randint(1, 100)\n",
    "gagne = False\n",
    "pass"
   ]
  },
  {
   "cell_type": "code",
   "execution_count": null,
   "metadata": {},
   "outputs": [],
   "source": [
    "# Corrigé\n",
    "N = randint(1, 100)\n",
    "gagne = False\n",
    "while not gagne:\n",
    "    n = int(input(\"Proposer un nombre entre 1 et 100 : \"))\n",
    "    if n == N:\n",
    "        print(\"Bravo ! Vous avez trouvé !\")\n",
    "        trouve = True\n",
    "    elif n > N:\n",
    "        print(\"Le nombre à deviner est plus petit !\")\n",
    "    else:\n",
    "        print(\"Le nombre à deviner est plus grand !\")"
   ]
  }
 ],
 "metadata": {
  "kernelspec": {
   "display_name": "Python 3 (ipykernel)",
   "language": "python",
   "name": "python3"
  },
  "language_info": {
   "codemirror_mode": {
    "name": "ipython",
    "version": 3
   },
   "file_extension": ".py",
   "mimetype": "text/x-python",
   "name": "python",
   "nbconvert_exporter": "python",
   "pygments_lexer": "ipython3",
   "version": "3.8.12"
  },
  "latex_envs": {
   "LaTeX_envs_menu_present": true,
   "autoclose": false,
   "autocomplete": true,
   "bibliofile": "biblio.bib",
   "cite_by": "apalike",
   "current_citInitial": 1,
   "eqLabelWithNumbers": true,
   "eqNumInitial": 1,
   "hotkeys": {
    "equation": "Ctrl-E",
    "itemize": "Ctrl-I"
   },
   "labels_anchors": false,
   "latex_user_defs": false,
   "report_style_numbering": false,
   "user_envs_cfg": false
  }
 },
 "nbformat": 4,
 "nbformat_minor": 2
}
