{
 "cells": [
  {
   "cell_type": "markdown",
   "metadata": {},
   "source": [
    "# Nom, prénom et classe : "
   ]
  },
  {
   "cell_type": "markdown",
   "metadata": {},
   "source": [
    "# Projet 4 &ndash; Travailler avec des p-uplets"
   ]
  },
  {
   "cell_type": "markdown",
   "metadata": {},
   "source": [
    "**Consignes**  \n",
    "- Vous pouvez répondre aux différentes questions directement dans ce notebook. Ajouter des cellules si nécessaire.  \n",
    "- Ne pas oublier de préciser vos nom, prénom et classe dans le notebook que vous déposerez.\n",
    "- Ne pas oublier de télécharger le fichier ``airports-reduit.csv`` dans le même répertoire que ce notebook."
   ]
  },
  {
   "cell_type": "markdown",
   "metadata": {},
   "source": [
    "## 1. Introduction"
   ]
  },
  {
   "cell_type": "markdown",
   "metadata": {},
   "source": [
    "Un fichier texte contient une séquence de caractères, chaque caractère étant codé par une série d’octets selon un certain encodage.  \n",
    "\n",
    "Vous allez manipuler dans ce TP le fichier ``airports-reduit.csv`` qui est un fichier CSV dont voici les trois premières lignes :\n",
    "\n",
    "```\n",
    "Total Rf Heliport;40.07080078125;-74.93360137939453;11;US\n",
    "Aero B Ranch Airport;38.704022;-101.473911;3435;US\n",
    "Lowell Field;59.94919968;-151.695999146;450;US\n",
    "```\n",
    "\n",
    "Le fichier contient 57302 aéroports recensés par le site [https://ourairports.com](https://ourairports.com).\n",
    "\n",
    "Chaque ligne du fichier correspond à un aéroport et donne (dans cet ordre) : \n",
    "- le nom ;  \n",
    "- la latitude ;  \n",
    "- la longitude ;  \n",
    "- l'altitude (en pieds) ;  \n",
    "- le code ISO du pays,\n",
    "\n",
    "de l'aéroport."
   ]
  },
  {
   "cell_type": "markdown",
   "metadata": {},
   "source": [
    "## 2. Ouvrir un fichier"
   ]
  },
  {
   "cell_type": "markdown",
   "metadata": {},
   "source": [
    "Les instructions suivantes permettent d'ouvrir le fichier ``airports-reduit.csv`` puis de le lire ligne par ligne avant de le refermer."
   ]
  },
  {
   "cell_type": "code",
   "execution_count": null,
   "metadata": {},
   "outputs": [],
   "source": [
    "# ouverture du fichier\n",
    "f = open(\"airports-reduit.csv\")\n",
    "# lecture du fichier ligne par ligne\n",
    "for ligne in f:\n",
    "    print(ligne)\n",
    "# fermeture du fichier\n",
    "f.close()"
   ]
  },
  {
   "cell_type": "markdown",
   "metadata": {},
   "source": [
    "## 3. Une première fonction"
   ]
  },
  {
   "cell_type": "markdown",
   "metadata": {},
   "source": [
    "Écrire la fonction ``fichier_vers_liste_tuples(fichier, separateur)`` ci-dessous :"
   ]
  },
  {
   "cell_type": "code",
   "execution_count": null,
   "metadata": {},
   "outputs": [],
   "source": [
    "def fichier_vers_liste_tuple(fichier, separateur):\n",
    "    \"\"\" Prend en paramètres :\n",
    "        - fichier de type str représentant un chemin d’accès à un fichier texte\n",
    "        - separateur de type str désignant le séparateur de champs sur une ligne du fichier\n",
    "        Retourne une liste de tuples, chaque tuple contenant les différents champs\n",
    "        d’une ligne du fichier\n",
    "    \"\"\"\n",
    "    # liste retournée à la fin\n",
    "    liste = []\n",
    "    # ouverture du fichier\n",
    "    f = open(fichier)\n",
    "    # traitement de chaque ligne\n",
    "    for ligne in f:\n",
    "        # suppression du caractère de fin de ligne\n",
    "        ligne = ligne.rstrip()\n",
    "        # conversion en tuple\n",
    "        puplet = tuple(ligne.split(separateur))\n",
    "        # ajout à la liste\n",
    "        liste.append(puplet)\n",
    "    return liste"
   ]
  },
  {
   "cell_type": "code",
   "execution_count": null,
   "metadata": {},
   "outputs": [],
   "source": [
    "assert fichier_vers_liste_tuple(\"airports-reduit.csv\", \";\")[42] == ('R J D Heliport', '39.94889831542969', '-75.74690246582031', '402', 'US')"
   ]
  },
  {
   "cell_type": "markdown",
   "metadata": {},
   "source": [
    "**Indication. &ndash;** Lire attentivement les lignes ci-dessous."
   ]
  },
  {
   "cell_type": "code",
   "execution_count": null,
   "metadata": {},
   "outputs": [],
   "source": [
    "# ouverture du fichier\n",
    "f = open(\"airports-reduit.csv\")\n",
    "# lecture de la première ligne\n",
    "ligne = f.readline()"
   ]
  },
  {
   "cell_type": "code",
   "execution_count": null,
   "metadata": {},
   "outputs": [],
   "source": [
    "# voici cette première ligne\n",
    "ligne"
   ]
  },
  {
   "cell_type": "code",
   "execution_count": null,
   "metadata": {},
   "outputs": [],
   "source": [
    "# rstrip permet de supprimer le caractère de fin de ligne\n",
    "ligne = ligne.rstrip()\n",
    "ligne"
   ]
  },
  {
   "cell_type": "code",
   "execution_count": null,
   "metadata": {},
   "outputs": [],
   "source": [
    "# split permet de découper la chaine de caractères selon le \n",
    "# séparateur donné en paramètre (ici \";\")\n",
    "# on obtient alors une liste\n",
    "ligne.split(\";\")"
   ]
  },
  {
   "cell_type": "code",
   "execution_count": null,
   "metadata": {},
   "outputs": [],
   "source": [
    "# tuple permet de convertir la liste en p-uplet\n",
    "tuple(ligne.split(\";\"))"
   ]
  },
  {
   "cell_type": "markdown",
   "metadata": {},
   "source": [
    "## 4. D'autres fonctions"
   ]
  },
  {
   "cell_type": "markdown",
   "metadata": {},
   "source": [
    "1. Écrire la fonction ``nombre_aeroports_pays(liste, pays)`` ci-dessous :"
   ]
  },
  {
   "cell_type": "code",
   "execution_count": null,
   "metadata": {},
   "outputs": [],
   "source": [
    "def nombre_aeroports_pays(liste, pays):\n",
    "    \"\"\" Prend en paramètres:\n",
    "        - liste une liste de tuples représentant des aéroports\n",
    "        - pays de type str correspondant au code ISO d’un pays\n",
    "        Retourne le nombre d’aéroports pour ce pays\n",
    "    \"\"\"\n",
    "    nb_aeroports = 0\n",
    "    for aeroport in liste:\n",
    "        if aeroport[4] == pays:\n",
    "            nb_aeroports = nb_aeroports + 1\n",
    "    return nb_aeroports"
   ]
  },
  {
   "cell_type": "code",
   "execution_count": null,
   "metadata": {},
   "outputs": [],
   "source": [
    "liste_aeroports = fichier_vers_liste_tuple(\"airports-reduit.csv\", \";\")\n",
    "assert nombre_aeroports_pays(liste_aeroports, \"US\") == 23260\n",
    "assert nombre_aeroports_pays(liste_aeroports, \"FR\") == 893"
   ]
  },
  {
   "cell_type": "markdown",
   "metadata": {},
   "source": [
    "2. Un pied correspond à $1/3$ de *yard*, c'est-à-dire $0,3048$ mètre. Écrire une fonction qui convertit une mesure en mètres en une mesure en pieds."
   ]
  },
  {
   "cell_type": "code",
   "execution_count": null,
   "metadata": {},
   "outputs": [],
   "source": [
    "# À vous de jouer !\n",
    "def metres_en_pieds(metres):\n",
    "    \"\"\" Convertit une mesure en mètres en une mesure en pieds\"\"\"\n",
    "    pieds = metres / 0.3048\n",
    "    return pieds"
   ]
  },
  {
   "cell_type": "markdown",
   "metadata": {},
   "source": [
    "3. Écrire la fonction ``filtre_altmin_aeroports(liste, altmin)`` ci-dessous :"
   ]
  },
  {
   "cell_type": "code",
   "execution_count": null,
   "metadata": {},
   "outputs": [],
   "source": [
    "def filtre_altmin_aeroports(liste, altmin):\n",
    "    \"\"\" Prend en paramètres:\n",
    "        - liste une liste de tuples représentant des aéroports\n",
    "        - altmin une altitude minimale en mètres\n",
    "        Retourne  un tuple constitué de :\n",
    "        - altmin en pieds\n",
    "        - du nombre d'aéroports d'altitude >= altmin\n",
    "    \"\"\"\n",
    "    nb_aeroports = 0\n",
    "    altmin_en_pieds = metres_en_pieds(altmin)\n",
    "    for aeroport in liste:\n",
    "        if aeroport[3] != '':\n",
    "            if float(aeroport[3]) >= altmin_en_pieds:\n",
    "                nb_aeroports = nb_aeroports + 1\n",
    "    return (altmin_en_pieds, nb_aeroports)"
   ]
  },
  {
   "cell_type": "code",
   "execution_count": null,
   "metadata": {},
   "outputs": [],
   "source": [
    "assert filtre_altmin_aeroports(liste_aeroports, 1000) == (3280.839895013123, 4996)"
   ]
  }
 ],
 "metadata": {
  "kernelspec": {
   "display_name": "Python 3 (ipykernel)",
   "language": "python",
   "name": "python3"
  },
  "language_info": {
   "codemirror_mode": {
    "name": "ipython",
    "version": 3
   },
   "file_extension": ".py",
   "mimetype": "text/x-python",
   "name": "python",
   "nbconvert_exporter": "python",
   "pygments_lexer": "ipython3",
   "version": "3.9.9"
  },
  "latex_envs": {
   "LaTeX_envs_menu_present": true,
   "autoclose": false,
   "autocomplete": true,
   "bibliofile": "biblio.bib",
   "cite_by": "apalike",
   "current_citInitial": 1,
   "eqLabelWithNumbers": true,
   "eqNumInitial": 1,
   "hotkeys": {
    "equation": "Ctrl-E",
    "itemize": "Ctrl-I"
   },
   "labels_anchors": false,
   "latex_user_defs": false,
   "report_style_numbering": false,
   "user_envs_cfg": false
  }
 },
 "nbformat": 4,
 "nbformat_minor": 2
}
