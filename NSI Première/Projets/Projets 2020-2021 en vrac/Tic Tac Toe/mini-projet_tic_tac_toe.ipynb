{
 "cells": [
  {
   "cell_type": "markdown",
   "metadata": {},
   "source": [
    "# Mini-projet &ndash; Tic Tac Toe"
   ]
  },
  {
   "cell_type": "markdown",
   "metadata": {},
   "source": [
    "Le but de ce projet est d'écrire une version du jeu Tic Tac Toe dans laquelle deux joueurs humains s'affrontent.\n",
    "Une liste de listes `grille` donne l'état de la grille de jeu à tout instant. Par exemple, à la grille ci-dessous :\n",
    "\n",
    "```\n",
    "X|O|X   \n",
    " |X|O\n",
    "O| |\n",
    "```\n",
    "\n",
    "correspond la liste suivante :\n",
    "\n",
    "```python\n",
    "[\n",
    " ['X', 'O', 'X'], \n",
    " [' ', 'X', 'O'], \n",
    " ['O', ' ', ' ']\n",
    "]\n",
    "```   \n",
    "\n",
    "Noter qu'à chaque case vide correspond la chaîne de caractères ``' '`` (et non la chaîne de caractères vide ``''``)."
   ]
  },
  {
   "cell_type": "markdown",
   "metadata": {},
   "source": [
    "Pour simplifier, à chaque tour de jeu, le joueur choisit l'endroit où placer son &laquo; jeton &raquo; ('X' ou 'O') en entrant un chiffre qui correspond à une position sur la grille :\n",
    "\n",
    "```\n",
    "7|8|9\n",
    "4|5|6\n",
    "1|2|3\n",
    "```"
   ]
  },
  {
   "cell_type": "code",
   "execution_count": null,
   "metadata": {},
   "outputs": [],
   "source": [
    "grille = [\n",
    "          ['X', 'O', 'X'], \n",
    "          [' ', 'X', 'O'], \n",
    "          ['O', ' ', ' ']\n",
    "         ]"
   ]
  },
  {
   "cell_type": "markdown",
   "metadata": {},
   "source": [
    "## 1. Grilles tests"
   ]
  },
  {
   "cell_type": "markdown",
   "metadata": {},
   "source": [
    "Définir trois grilles tests :\n",
    "- une grille ``grille_ligne_gagnante`` avec une ligne gagnante ;\n",
    "- une grille ``grille_colonne_gagnante`` avec une colonne gagnante ;\n",
    "- une grille ``grille_diagonale_gagnante`` avec une diagonale gagnante."
   ]
  },
  {
   "cell_type": "code",
   "execution_count": null,
   "metadata": {},
   "outputs": [],
   "source": [
    "# À vous de jouer (grille_ligne_gagnante)"
   ]
  },
  {
   "cell_type": "code",
   "execution_count": null,
   "metadata": {},
   "outputs": [],
   "source": [
    "# À vous de jouer (grille_colonne_gagnante)"
   ]
  },
  {
   "cell_type": "code",
   "execution_count": null,
   "metadata": {},
   "outputs": [],
   "source": [
    "# À vous de jouer (diagonale)"
   ]
  },
  {
   "cell_type": "markdown",
   "metadata": {},
   "source": [
    "## 2. Fonction ``afficher_grille(grille)``"
   ]
  },
  {
   "cell_type": "markdown",
   "metadata": {},
   "source": [
    "Écrire une fonction ``afficher_grille()`` qui prend en paramètre une liste de listes représentant une grille, et qui l'affiche comme précisé dans l'introduction du projet.   \n",
    "**Ne pas oublier d'écrire la documentation de la fonction.**"
   ]
  },
  {
   "cell_type": "code",
   "execution_count": null,
   "metadata": {},
   "outputs": [],
   "source": [
    "# À vous de jouer !\n",
    "def afficher_grille(grille):\n",
    "    pass"
   ]
  },
  {
   "cell_type": "code",
   "execution_count": null,
   "metadata": {},
   "outputs": [],
   "source": [
    "afficher_grille(grille_ligne_gagnante)"
   ]
  },
  {
   "cell_type": "code",
   "execution_count": null,
   "metadata": {},
   "outputs": [],
   "source": [
    "afficher_grille(grille_colonne_gagnante)"
   ]
  },
  {
   "cell_type": "code",
   "execution_count": null,
   "metadata": {},
   "outputs": [],
   "source": [
    "afficher_grille(grille_diagonale_gagnante)"
   ]
  },
  {
   "cell_type": "markdown",
   "metadata": {},
   "source": [
    "## 3. Fonction ``verifier_alignement``"
   ]
  },
  {
   "cell_type": "markdown",
   "metadata": {},
   "source": [
    "#### Fonction ``verifier_lignes``"
   ]
  },
  {
   "cell_type": "markdown",
   "metadata": {},
   "source": [
    "Écrire une fonction ``verifier_lignes`` qui prend en paramètre une liste de listes représentant une grille, et vérifie si cette grille contient une ligne gagnante. La fonction renvoie ``'X'`` (resp. ``'O'``) si la grille contient une ligne gagnante avec des ``'X'`` (resp. des ``'O'``), et ``' '`` si aucune ligne n'est gagnante.   \n",
    "**Ne pas oublier d'écrire la documentation de la fonction.**"
   ]
  },
  {
   "cell_type": "code",
   "execution_count": null,
   "metadata": {},
   "outputs": [],
   "source": [
    "# À vous de jouer !\n",
    "def verifier_lignes(grille):\n",
    "    pass"
   ]
  },
  {
   "cell_type": "code",
   "execution_count": null,
   "metadata": {},
   "outputs": [],
   "source": [
    "verifier_lignes(grille_ligne_gagnante)"
   ]
  },
  {
   "cell_type": "markdown",
   "metadata": {},
   "source": [
    "#### Fonction ``verifier_colonnes``"
   ]
  },
  {
   "cell_type": "markdown",
   "metadata": {},
   "source": [
    "Écrire une fonction ``verifier_colonnes`` qui prend en paramètre une liste de listes représentant une grille, et vérifie si cette grille contient une colonne gagnante. La fonction renvoie ``'X'`` (resp. ``'O'``) si la grille contient une colonne gagnante avec des ``'X'`` (resp. des ``'O'``), et ``' '`` si aucune colonne n'est gagnante.   \n",
    "**Ne pas oublier d'écrire la documentation de la fonction.**"
   ]
  },
  {
   "cell_type": "code",
   "execution_count": null,
   "metadata": {},
   "outputs": [],
   "source": [
    "# À vous de jouer !\n",
    "def verifier_colonnes(grille):\n",
    "    pass"
   ]
  },
  {
   "cell_type": "code",
   "execution_count": null,
   "metadata": {},
   "outputs": [],
   "source": [
    "verifier_colonnes(grille_colonne_gagnante)"
   ]
  },
  {
   "cell_type": "markdown",
   "metadata": {},
   "source": [
    "#### Fonction ``verifier_diagonales``"
   ]
  },
  {
   "cell_type": "markdown",
   "metadata": {},
   "source": [
    "Écrire une fonction ``verifier_diagonales`` qui prend en paramètre une liste de listes représentant une grille, et vérifie si cette grille contient une diagonale gagnante. La fonction renvoie ``'X'`` (resp. ``'O'``) si la grille contient une diagonale gagnante avec des ``'X'`` (resp. des ``'O'``), et ``' '`` si aucune diagonale n'est gagnante.   \n",
    "**Ne pas oublier d'écrire la documentation de la fonction.**"
   ]
  },
  {
   "cell_type": "code",
   "execution_count": null,
   "metadata": {},
   "outputs": [],
   "source": [
    "# À vous de jouer\n",
    "def verifier_diagonales(grille):\n",
    "    pass"
   ]
  },
  {
   "cell_type": "code",
   "execution_count": null,
   "metadata": {},
   "outputs": [],
   "source": [
    "verifier_diagonales(grille_diagonale_gagnante)"
   ]
  },
  {
   "cell_type": "markdown",
   "metadata": {},
   "source": [
    "#### Fonction ``verifier_alignement``"
   ]
  },
  {
   "cell_type": "markdown",
   "metadata": {},
   "source": [
    "Écrire une fonction ``verifier_alignement`` qui prend en paramètre une liste de listes représentant une grille, et vérifie si cette grille contient une ligne, une colonne ou une diagonale gagnante. La fonction renvoie ``'X'`` (resp. ``'O'``) si la grille contient une ligne, une colonne ou une diagonale gagnante avec des ``'X'`` (resp. des ``'O'``), et ``' '`` si aucun des deux joueurs n'a gagné.   \n",
    "**Ne pas oublier d'écrire la documentation de la fonction.**"
   ]
  },
  {
   "cell_type": "code",
   "execution_count": null,
   "metadata": {},
   "outputs": [],
   "source": [
    "# À vous de jouer !\n",
    "def verifier_alignement(grille):\n",
    "    pass"
   ]
  },
  {
   "cell_type": "code",
   "execution_count": null,
   "metadata": {},
   "outputs": [],
   "source": [
    "verifier_alignement(grille_diagonale_gagnante)"
   ]
  },
  {
   "cell_type": "markdown",
   "metadata": {},
   "source": [
    "## 4. Fonction ``jouer_coup``"
   ]
  },
  {
   "cell_type": "markdown",
   "metadata": {},
   "source": [
    "Écrire une fonction ``jouer_coup`` qui prend en paramètre :   \n",
    "- un joueur (``'X'`` ou ``'O'``) ;\n",
    "- une position (un chiffre de 1 à 9) ;\n",
    "- une grille (une liste de listes),\n",
    "et qui &laquo;joue&raquo; le coup correspondant.   \n",
    "\n",
    "**Remarque. &ndash; Afin de simplifier le projet, on supposera que chaque joueur ne joue que des coups valides (c'est-à-dire ne propose que des chiffres correspondant à des cases encore vides).**"
   ]
  },
  {
   "cell_type": "code",
   "execution_count": null,
   "metadata": {},
   "outputs": [],
   "source": [
    "# À vous de jouer !\n",
    "def jouer_coup(joueur, position, grille):\n",
    "    pass"
   ]
  },
  {
   "cell_type": "markdown",
   "metadata": {},
   "source": [
    "## 5. Le jeu !"
   ]
  },
  {
   "cell_type": "markdown",
   "metadata": {},
   "source": [
    "Programmer le jeu Tic Tac Toe en utilisant les fonctions écrites précédemment pour compléter le code ci-dessous."
   ]
  },
  {
   "cell_type": "code",
   "execution_count": null,
   "metadata": {},
   "outputs": [],
   "source": [
    "# Initialisation de la grille (vide)\n",
    "grille = [\n",
    "          [' ', ' ', ' '], \n",
    "          [' ', ' ', ' '], \n",
    "          [' ', ' ', ' ']\n",
    "         ]\n",
    "# Booleen fini (qui indique si la partie est terminée)\n",
    "fini = False\n",
    "# Chaîne de caractères joueur (qui vaut soit 'X', soit 'O')\n",
    "joueur = 'X'\n",
    "# Variable nb_coups qui permet de savoir quand la grille est pleine\n",
    "nb_coups = 0\n",
    "# Variable gagnant\n",
    "gagnant = ' '\n",
    "\n",
    "while ... and ...: # Compléter les ...\n",
    "    # On affiche la grille\n",
    "\n",
    "    # On récupère le coup du joueur qu'on suppose valide\n",
    "\n",
    "    # On joue le coup\n",
    "\n",
    "    # On vérifie s'il y a un gagnant et on sort de la boucle si c'est le cas\n",
    "\n",
    "    # On incrémente la variable nb_coups\n",
    "\n",
    "    # On change de joueur\n",
    "\n",
    "# Ici, la partie est finie. On affiche le résultat.\n",
    "# D'abord la grille...\n",
    "\n",
    "# ... puis le message indiquant le vainqueur"
   ]
  }
 ],
 "metadata": {
  "kernelspec": {
   "display_name": "Python 3",
   "language": "python",
   "name": "python3"
  },
  "language_info": {
   "codemirror_mode": {
    "name": "ipython",
    "version": 3
   },
   "file_extension": ".py",
   "mimetype": "text/x-python",
   "name": "python",
   "nbconvert_exporter": "python",
   "pygments_lexer": "ipython3",
   "version": "3.8.6"
  }
 },
 "nbformat": 4,
 "nbformat_minor": 2
}
