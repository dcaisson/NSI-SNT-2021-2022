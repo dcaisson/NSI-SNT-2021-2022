{
 "cells": [
  {
   "cell_type": "markdown",
   "metadata": {},
   "source": [
    "# Mini-projet &ndash; Autour des dictionnaires"
   ]
  },
  {
   "cell_type": "markdown",
   "metadata": {},
   "source": [
    "## 1. The Wire"
   ]
  },
  {
   "cell_type": "markdown",
   "metadata": {},
   "source": [
    "Dans la série télévisée *The Wire*, les revendeurs de drogue utilisent un chiffrement par substitution pour chiffrer les numéros de téléphone. Ce chiffrement consiste à remplacer chaque chiffre (autre que 5 et 0) d'un numéro de téléphone par le chiffre se trouvant &laquo; de l'autre côté &raquo; du 5 : ainsi, chaque 1 est remplace par un 9, chaque 2 par un 8 etc. Les 5 et les 0, eux ne changent pas."
   ]
  },
  {
   "cell_type": "markdown",
   "metadata": {},
   "source": [
    "**Exercice 1**   \n",
    "1. Comment la chaîne de caractères ```\"Appelle-moi vite au 87 85 60 13 !\"``` est-elle chiffrée ?"
   ]
  },
  {
   "cell_type": "markdown",
   "metadata": {},
   "source": [
    "  Elle est chiffrée en ``\"Appelle-moi vite au 23 25 40 97 !\"``."
   ]
  },
  {
   "cell_type": "markdown",
   "metadata": {},
   "source": [
    "2. En utilisant un dictionnaire, écrire une fonction ``jump_the_five`` permettant de chiffrer des chaînes de caractères contenant des numéros de téléphone (ou des chiffres).   \n",
    "*Indication. &ndash; On consultera avec intérêt la documentation de la fonction ``isdigit``.*"
   ]
  },
  {
   "cell_type": "code",
   "execution_count": null,
   "metadata": {},
   "outputs": [],
   "source": [
    "# À vous de jouer !\n",
    "def jump_the_five(message):\n",
    "    message_chiffre = \"\"\n",
    "    jump = {\n",
    "            \"0\":\"0\", \"1\":\"9\", \"2\":\"8\", \"3\":\"7\", \"4\":\"6\", \n",
    "            \"5\":\"5\", \"6\":\"4\", \"7\":\"3\", \"8\":\"2\",\"9\":\"1\"\n",
    "            }\n",
    "    for c in message:\n",
    "        if c.isdigit():\n",
    "            # si c est un chiffre\n",
    "            message_chiffre = message_chiffre + jump[c]\n",
    "        else:\n",
    "            # si c n'est pas un chiffre\n",
    "            message_chiffre = message_chiffre + c\n",
    "    return message_chiffre"
   ]
  },
  {
   "cell_type": "code",
   "execution_count": null,
   "metadata": {},
   "outputs": [],
   "source": [
    "# On vérifie la réponse donnée précédemment\n",
    "jump_the_five(\"Appelle-moi vite au 87 85 60 13 !\")"
   ]
  },
  {
   "cell_type": "markdown",
   "metadata": {},
   "source": [
    "3. Est-il nécessaire d'écrire une fonction permettant de déchiffrer des chaînes de caractères chiffrées avec cette méthode ?"
   ]
  },
  {
   "cell_type": "markdown",
   "metadata": {},
   "source": [
    "Non, la fonction ``jump_the_five`` permet aussi de déchiffrer les messages."
   ]
  },
  {
   "cell_type": "code",
   "execution_count": null,
   "metadata": {},
   "outputs": [],
   "source": [
    "# Exemple\n",
    "jump_the_five(\"Appelle-moi vite au 23 25 40 97 !\")"
   ]
  },
  {
   "cell_type": "markdown",
   "metadata": {},
   "source": [
    "## 2. Chiffre des francs-maçons"
   ]
  },
  {
   "cell_type": "markdown",
   "metadata": {},
   "source": [
    "Le chiffre des francs-maçons est une substitution simple, où chaque lettre de l'alphabet est remplacée par un symbole géométrique.\n",
    "\n",
    "<img src=\"chiffre_des_francs-macons.png\">"
   ]
  },
  {
   "cell_type": "markdown",
   "metadata": {},
   "source": [
    "Dans cette partie, on appellera message une suite de lettres capitales non-accentuées, par exemple ``\"LANSICESTSUPER\"``."
   ]
  },
  {
   "cell_type": "markdown",
   "metadata": {},
   "source": [
    "**Exercice 2**   \n",
    "1. En utilisant le dictionnaire proposé ci-dessous, écrire une fonction permettant de chiffrer un message en utilisant le chiffre des francs-maçons."
   ]
  },
  {
   "cell_type": "code",
   "execution_count": null,
   "metadata": {
    "scrolled": true
   },
   "outputs": [],
   "source": [
    "pigpen_dictionary = {\n",
    "    \"A\":\"_|\",\n",
    "    \"B\":\"|_|\",\n",
    "    \"C\":\"|_\",\n",
    "    \"D\":\"]\",\n",
    "    \"E\":\"[]\",\n",
    "    \"F\":\"[\",\n",
    "    \"G\":\"-|\",\n",
    "    \"H\":\"|-|\",\n",
    "    \"I\":\"|-\",\n",
    "    \"J\":\"._|\",\n",
    "    \"K\":\"|._|\",\n",
    "    \"L\":\"|._\",\n",
    "    \"M\":\".]\",\n",
    "    \"N\":\"[.]\",\n",
    "    \"O\":\"[.\",\n",
    "    \"P\":\".-|\",\n",
    "    \"Q\":\"|.-|\",\n",
    "    \"R\":\"|.-\",\n",
    "    \"S\":\"v\",\n",
    "    \"T\":\">\",\n",
    "    \"U\":\"<\",\n",
    "    \"V\":\"^\",\n",
    "    \"W\":\".v\",\n",
    "    \"X\":\".>\",\n",
    "    \"Y\":\".<\",\n",
    "    \"Z\":\".^\"\n",
    "}"
   ]
  },
  {
   "cell_type": "code",
   "execution_count": null,
   "metadata": {},
   "outputs": [],
   "source": [
    "# À vous de jouer !\n",
    "def pigpen(message):\n",
    "    message_chiffre = \"\"\n",
    "    for c in message:\n",
    "        message_chiffre = message_chiffre + pigpen_dictionary[c]\n",
    "    return message_chiffre"
   ]
  },
  {
   "cell_type": "code",
   "execution_count": null,
   "metadata": {},
   "outputs": [],
   "source": [
    "# Un exemple\n",
    "pigpen(\"BRAVO\")"
   ]
  },
  {
   "cell_type": "markdown",
   "metadata": {},
   "source": [
    "2. Quelle(s) difficulté(s) se posent pour écrire une fonction de déchiffrement ?"
   ]
  },
  {
   "cell_type": "markdown",
   "metadata": {},
   "source": [
    "Il peut y avoir des ambiguïtés..."
   ]
  }
 ],
 "metadata": {
  "kernelspec": {
   "display_name": "Python 3",
   "language": "python",
   "name": "python3"
  },
  "language_info": {
   "codemirror_mode": {
    "name": "ipython",
    "version": 3
   },
   "file_extension": ".py",
   "mimetype": "text/x-python",
   "name": "python",
   "nbconvert_exporter": "python",
   "pygments_lexer": "ipython3",
   "version": "3.8.6"
  }
 },
 "nbformat": 4,
 "nbformat_minor": 2
}
