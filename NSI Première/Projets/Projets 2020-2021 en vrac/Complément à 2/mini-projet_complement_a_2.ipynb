{
 "cells": [
  {
   "cell_type": "markdown",
   "metadata": {},
   "source": [
    "# Mini-projet &ndash; Complément à 2"
   ]
  },
  {
   "cell_type": "markdown",
   "metadata": {},
   "source": [
    "## 1. Quelques exemples"
   ]
  },
  {
   "cell_type": "markdown",
   "metadata": {},
   "source": [
    "1. Donner la représentation sur 8 bits, en utilisant le complément à $2$, des entiers relatifs $78$ et $-120$.   \n",
    "2. Quels entiers relatifs sont représentés (en utilisant le complément à $2$, sur $8$ bits) par les mots `0010 1110` et `1010 0011` ?"
   ]
  },
  {
   "cell_type": "markdown",
   "metadata": {},
   "source": [
    "## 2. Fonctions `premier_1` et `inverse`"
   ]
  },
  {
   "cell_type": "markdown",
   "metadata": {},
   "source": [
    "3. Écrire une fonction `premier_1` qui prend en entrée une chaîne de caractères représentant un mot de 8 bits contenant au moins un `1` (par exemple \"00101110\") et qui retourne l'indice du premier `1` en partant de la droite.   \n",
    "*Par exemple `premier_1(\"00101110\")` renvoie 6*.   \n",
    "**Ne pas oublier d'écrire la documentation de cette fonction.**"
   ]
  },
  {
   "cell_type": "markdown",
   "metadata": {},
   "source": [
    "### Fonction `premier_1`"
   ]
  },
  {
   "cell_type": "code",
   "execution_count": 1,
   "metadata": {},
   "outputs": [],
   "source": [
    "def premier_1(mot):\n",
    "    pass"
   ]
  },
  {
   "cell_type": "markdown",
   "metadata": {},
   "source": [
    "### Fonction `inverse`"
   ]
  },
  {
   "cell_type": "markdown",
   "metadata": {},
   "source": [
    "4. Écrire une fonction `inverse` qui inverse tous les bits d'un mot de 8 bits contenant au moins un `1` (par exemple \"00101110\") jusqu'au premier `1` en partant de la droite *exclu*.    \n",
    "*Par exemple, `inverse(\"00101110\")` renvoie \"11010010\".*     \n",
    "**Ne pas oublier d'écrire la documentation de cette fonction.**"
   ]
  },
  {
   "cell_type": "code",
   "execution_count": 4,
   "metadata": {},
   "outputs": [],
   "source": [
    "def inverse(mot):\n",
    "    pass"
   ]
  },
  {
   "cell_type": "markdown",
   "metadata": {},
   "source": [
    "## 3. Fonctions `dec2bin_compl_2` et `bin2dec_compl_2`"
   ]
  },
  {
   "cell_type": "markdown",
   "metadata": {},
   "source": [
    "**Dans cette partie, on pourra utiliser des fonctions de conversion déjà écrites.**"
   ]
  },
  {
   "cell_type": "markdown",
   "metadata": {},
   "source": [
    "### Fonction `dec2bin_compl_2`"
   ]
  },
  {
   "cell_type": "markdown",
   "metadata": {},
   "source": [
    "5. Écrire une fonction `dec2bin_compl_2` qui prend en entrée un entier relatif `x` compris entre $-2^7$ et $2^7-1$, et qui renvoie une chaîne de caractères donnant la représentation de cet entier obtenue en utilisant la méthode du complément à 2 (sur 8 bits).   \n",
    "**Ne pas oublier d'écrire la documentation de cette fonction.**"
   ]
  },
  {
   "cell_type": "code",
   "execution_count": 1,
   "metadata": {},
   "outputs": [],
   "source": [
    "# À vous de jouer"
   ]
  },
  {
   "cell_type": "markdown",
   "metadata": {},
   "source": [
    "6. Écrire la fonction `bin2dec_compl_2` inverse de la fonction précédente. La fonction `bin2dec_compl_2` prend en entrée une chaîne de caractères qui donne la représentation d'un entier `x` sur 8 bits, obtenue en utilisant la méthode du complément à 2, et renvoie l'entier `x`.   \n",
    "**Ne pas oublier d'écrire la documentation de cette fonction.**"
   ]
  },
  {
   "cell_type": "markdown",
   "metadata": {},
   "source": [
    "### Fonction `bin2dec_compl_2`"
   ]
  },
  {
   "cell_type": "code",
   "execution_count": 2,
   "metadata": {},
   "outputs": [],
   "source": [
    "# À vous de jouer !"
   ]
  }
 ],
 "metadata": {
  "kernelspec": {
   "display_name": "Python 3",
   "language": "python",
   "name": "python3"
  },
  "language_info": {
   "codemirror_mode": {
    "name": "ipython",
    "version": 3
   },
   "file_extension": ".py",
   "mimetype": "text/x-python",
   "name": "python",
   "nbconvert_exporter": "python",
   "pygments_lexer": "ipython3",
   "version": "3.7.3"
  }
 },
 "nbformat": 4,
 "nbformat_minor": 2
}
