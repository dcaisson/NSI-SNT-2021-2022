{
 "cells": [
  {
   "cell_type": "markdown",
   "metadata": {},
   "source": [
    "# Mini-projet &ndash; Complément à 2"
   ]
  },
  {
   "cell_type": "markdown",
   "metadata": {},
   "source": [
    "## 1. Quelques exemples"
   ]
  },
  {
   "cell_type": "markdown",
   "metadata": {},
   "source": [
    "1. Donner la représentation sur 8 bits, en utilisant le complément à $2$, des entiers relatifs $78$ et $-120$.   \n",
    "2. Quels entiers relatifs sont représentés (en utilisant le complément à $2$) par les mots `0010 1110` et `1010 0011` ?"
   ]
  },
  {
   "cell_type": "markdown",
   "metadata": {},
   "source": [
    "## 2. Fonctions `premier_1` et `inverse`"
   ]
  },
  {
   "cell_type": "markdown",
   "metadata": {},
   "source": [
    "3. Écrire une fonction `premier_1` qui prend en entrée une chaîne de caractères représentant un mot de 8 bits contenant au moins un `1` (par exemple \"00101110\") et qui retourne l'indice du premier `1` en partant de la droite.   \n",
    "*Par exemple `premier_1(\"00101110\")` renvoie 6*.   \n",
    "**Ne pas oublier d'écrire la documentation de cette fonction.**"
   ]
  },
  {
   "cell_type": "markdown",
   "metadata": {},
   "source": [
    "### Fonction `premier_1`"
   ]
  },
  {
   "cell_type": "code",
   "execution_count": null,
   "metadata": {},
   "outputs": [],
   "source": [
    "def premier_1(mot):\n",
    "    pass"
   ]
  },
  {
   "cell_type": "code",
   "execution_count": null,
   "metadata": {},
   "outputs": [],
   "source": [
    "# Corrigé\n",
    "def premier_1(mot):\n",
    "    for i in range(8):\n",
    "        if mot[i] == \"1\":\n",
    "            indice = i\n",
    "    return indice"
   ]
  },
  {
   "cell_type": "code",
   "execution_count": null,
   "metadata": {},
   "outputs": [],
   "source": [
    "premier_1(\"00101110\")"
   ]
  },
  {
   "cell_type": "markdown",
   "metadata": {},
   "source": [
    "### Fonction `inverse`"
   ]
  },
  {
   "cell_type": "markdown",
   "metadata": {},
   "source": [
    "4. Écrire une fonction `inverse` qui inverse tous les bits d'un mot de 8 bits contenant au moins un `1` (par exemple \"00101110\") jusqu'au premier `1` en partant de la droite *exclu*.    \n",
    "*Par exemple, `inverse(\"00101110\")` renvoie \"11010010\".*     \n",
    "**Ne pas oublier d'écrire la documentation de cette fonction.**"
   ]
  },
  {
   "cell_type": "code",
   "execution_count": null,
   "metadata": {},
   "outputs": [],
   "source": [
    "def inverse(mot):\n",
    "    pass"
   ]
  },
  {
   "cell_type": "code",
   "execution_count": null,
   "metadata": {},
   "outputs": [],
   "source": [
    "# Corrigé\n",
    "def inverse(mot):\n",
    "    inverse = \"\"\n",
    "    # indice est l'indice du premier 1 rencontré en partant de la droite\n",
    "    indice = premier_1(mot)\n",
    "    for i in range(indice):\n",
    "        if mot[i] == \"1\":\n",
    "            inverse = inverse + \"0\"\n",
    "        else:\n",
    "            inverse = inverse + \"1\"\n",
    "    for i in range(indice, 8):\n",
    "        inverse = inverse + mot[i]\n",
    "    return inverse"
   ]
  },
  {
   "cell_type": "code",
   "execution_count": null,
   "metadata": {},
   "outputs": [],
   "source": [
    "inverse(\"00101110\")"
   ]
  },
  {
   "cell_type": "markdown",
   "metadata": {},
   "source": [
    "## 3. Fonctions `dec2bin_compl_2` et `bin2dec_compl_2`"
   ]
  },
  {
   "cell_type": "markdown",
   "metadata": {},
   "source": [
    "**Dans cette partie, on pourra utiliser des fonctions de conversion déjà écrites.**"
   ]
  },
  {
   "cell_type": "markdown",
   "metadata": {},
   "source": [
    "### Fonction `dec2bin_compl_2`"
   ]
  },
  {
   "cell_type": "markdown",
   "metadata": {},
   "source": [
    "5. Écrire une fonction `dec2bin_compl_2` qui prend en entrée un entier relatif `x` compris entre $-2^7$ et $2^7-1$, et qui renvoie une chaîne de caractères donnant la représentation de cet entier obtenue en utilisant la méthode du complément à 2 (sur 8 bits)."
   ]
  },
  {
   "cell_type": "code",
   "execution_count": null,
   "metadata": {},
   "outputs": [],
   "source": [
    "# À vous de jouer"
   ]
  },
  {
   "cell_type": "code",
   "execution_count": null,
   "metadata": {},
   "outputs": [],
   "source": [
    "# On utilise la fonction dec2bin déjà écrite\n",
    "def dec2bin(n): # n est un entier naturel (type int)\n",
    "    if n == 0:\n",
    "        return \"0\"\n",
    "    else:\n",
    "        b = \"\"\n",
    "        while n != 0:\n",
    "            reste = n % 2\n",
    "            b = str(reste) + b\n",
    "            n = n // 2\n",
    "    return b"
   ]
  },
  {
   "cell_type": "code",
   "execution_count": null,
   "metadata": {},
   "outputs": [],
   "source": [
    "# Corrigé\n",
    "def dec2bin_compl_2(x):\n",
    "    if x >= 0:\n",
    "        b = dec2bin(x)\n",
    "        for i in range(8-len(b)):\n",
    "            b = \"0\" + b\n",
    "    else:\n",
    "        b = dec2bin(-x)\n",
    "        for i in range(8-len(b)):\n",
    "            b = \"0\" + b\n",
    "        b = inverse(b)\n",
    "    return b"
   ]
  },
  {
   "cell_type": "code",
   "execution_count": null,
   "metadata": {},
   "outputs": [],
   "source": [
    "dec2bin_compl_2(10)"
   ]
  },
  {
   "cell_type": "code",
   "execution_count": null,
   "metadata": {},
   "outputs": [],
   "source": [
    "dec2bin_compl_2(-120)"
   ]
  },
  {
   "cell_type": "markdown",
   "metadata": {},
   "source": [
    "6. Écrire la fonction `bin2dec_compl_2` inverse de la fonction précédente. La fonction `bin2dec_compl_2` prend en entrée une chaîne de caractères qui donne la représentation d'un entier `x` sur 8 bits, obtenue en utilisant la méthode du complément à 2, et renvoie l'entier `x`."
   ]
  },
  {
   "cell_type": "markdown",
   "metadata": {},
   "source": [
    "### Fonction `bin2dec_compl_2`"
   ]
  },
  {
   "cell_type": "code",
   "execution_count": null,
   "metadata": {},
   "outputs": [],
   "source": [
    "# À vous de jouer !"
   ]
  },
  {
   "cell_type": "code",
   "execution_count": null,
   "metadata": {},
   "outputs": [],
   "source": [
    "# On utilise la fonction bin2dec déjà écrite\n",
    "def bin2dec(n): # n est une chaine de caractères, par exemple \"1011\"\n",
    "    l = len(n)\n",
    "    d = 0\n",
    "    for i in range(l):\n",
    "        c = int(n[i])\n",
    "        d = d + c * 2 ** (l - 1 - i)\n",
    "    return d"
   ]
  },
  {
   "cell_type": "code",
   "execution_count": null,
   "metadata": {},
   "outputs": [],
   "source": [
    "# Corrigé\n",
    "def bin2dec_compl_2(b):\n",
    "    bit_poids_fort = b[0]\n",
    "    if bit_poids_fort == \"0\":\n",
    "        d = bin2dec(b)\n",
    "    else:\n",
    "        b = inverse(b)\n",
    "        d = bin2dec(b)\n",
    "        d = -d\n",
    "    return d"
   ]
  },
  {
   "cell_type": "code",
   "execution_count": null,
   "metadata": {},
   "outputs": [],
   "source": [
    "bin2dec_compl_2(\"11110110\")"
   ]
  },
  {
   "cell_type": "code",
   "execution_count": null,
   "metadata": {
    "scrolled": true
   },
   "outputs": [],
   "source": [
    "bin2dec_compl_2(\"10100011\")"
   ]
  }
 ],
 "metadata": {
  "kernelspec": {
   "display_name": "Python 3",
   "language": "python",
   "name": "python3"
  },
  "language_info": {
   "codemirror_mode": {
    "name": "ipython",
    "version": 3
   },
   "file_extension": ".py",
   "mimetype": "text/x-python",
   "name": "python",
   "nbconvert_exporter": "python",
   "pygments_lexer": "ipython3",
   "version": "3.8.5"
  }
 },
 "nbformat": 4,
 "nbformat_minor": 2
}
