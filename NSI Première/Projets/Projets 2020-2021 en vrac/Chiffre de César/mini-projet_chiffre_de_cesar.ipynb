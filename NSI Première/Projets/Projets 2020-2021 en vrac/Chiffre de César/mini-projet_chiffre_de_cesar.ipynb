{
 "cells": [
  {
   "cell_type": "markdown",
   "metadata": {},
   "source": [
    "# Mini-projet &ndash; Le chiffre de César"
   ]
  },
  {
   "cell_type": "markdown",
   "metadata": {},
   "source": [
    "Le but de ce projet est de découvrir le chiffre de César et d'en proposer une implémentation simple."
   ]
  },
  {
   "cell_type": "markdown",
   "metadata": {},
   "source": [
    "## 1. Le chiffre de César"
   ]
  },
  {
   "cell_type": "markdown",
   "metadata": {},
   "source": [
    "Le chiffre de César est une méthode de chiffrement très simple utilisée par Jules César dans ses correspondances secrètes. Pour obtenir le texte chiffré, on remplace simplement chaque lettre du texte en clair par la lettre qui se trouve trois places plus loin dans l'alphabet, &laquo; modulo 26 &raquo;.   \n",
    "\n",
    "Ainsi, A est remplacé par D, B par E, W par Z, X par A etc.   \n",
    "\n",
    "*Remarque. &ndash; On utilise parfois un décalage autre que 3.*"
   ]
  },
  {
   "cell_type": "markdown",
   "metadata": {},
   "source": [
    "## 2. Fonctions ``ord`` et ``chr``"
   ]
  },
  {
   "cell_type": "markdown",
   "metadata": {},
   "source": [
    "1. Faire des recherches sur les fonctions Python ``chr`` et ``ord`` puis donner quelques exemples d'utilisation."
   ]
  },
  {
   "cell_type": "markdown",
   "metadata": {},
   "source": [
    "<p style=\"color:red;\">Dans toute la suite du mini-projet, pour simplifier, on supposera que les messages en clair et chiffrés sont des suites de lettres capitales non-accentués.</p>"
   ]
  },
  {
   "cell_type": "markdown",
   "metadata": {},
   "source": [
    "<p style=\"color:red;\">Exemple de message en clair : JAIMELANSI</p>"
   ]
  },
  {
   "cell_type": "markdown",
   "metadata": {},
   "source": [
    "## 3. Fonctions ``chiffrement`` et ``dechiffrement``"
   ]
  },
  {
   "cell_type": "markdown",
   "metadata": {},
   "source": [
    "2. Écrire une fonction ``chiffrement`` qui permet de chiffrer la chaîne de caractères donnée en paramètre.     \n",
    "   **Ne pas oublier d'écrire la documentation de cette fonction.**"
   ]
  },
  {
   "cell_type": "code",
   "execution_count": null,
   "metadata": {},
   "outputs": [],
   "source": [
    "# À vous de jouer !\n",
    "def chiffrement(message):\n",
    "    pass"
   ]
  },
  {
   "cell_type": "markdown",
   "metadata": {},
   "source": [
    "3. Écrire une fonction ``dechiffrement`` qui permet de déchiffrer la chaîne de caractères donnée en paramètre.   \n",
    "      **Ne pas oublier d'écrire la documentation de cette fonction.**"
   ]
  },
  {
   "cell_type": "code",
   "execution_count": null,
   "metadata": {},
   "outputs": [],
   "source": [
    "# À vous de jouer !\n",
    "def dechiffrement(message):\n",
    "    pass"
   ]
  },
  {
   "cell_type": "markdown",
   "metadata": {},
   "source": [
    "## 4. Fonction principale"
   ]
  },
  {
   "cell_type": "markdown",
   "metadata": {},
   "source": [
    "4. Écrire une fonction ``cesar``  qui demande à l'utilisateur de choisir entre chiffrement et déchiffrement, avant de lui demander le texte (à chiffrer ou à déchiffrer), et qui renvoie le texte (chiffré ou déchiffré)."
   ]
  },
  {
   "cell_type": "code",
   "execution_count": null,
   "metadata": {},
   "outputs": [],
   "source": [
    "# À vous de jouer !\n",
    "def cesar():\n",
    "    pass"
   ]
  }
 ],
 "metadata": {
  "kernelspec": {
   "display_name": "Python 3",
   "language": "python",
   "name": "python3"
  },
  "language_info": {
   "codemirror_mode": {
    "name": "ipython",
    "version": 3
   },
   "file_extension": ".py",
   "mimetype": "text/x-python",
   "name": "python",
   "nbconvert_exporter": "python",
   "pygments_lexer": "ipython3",
   "version": "3.8.6"
  }
 },
 "nbformat": 4,
 "nbformat_minor": 2
}
