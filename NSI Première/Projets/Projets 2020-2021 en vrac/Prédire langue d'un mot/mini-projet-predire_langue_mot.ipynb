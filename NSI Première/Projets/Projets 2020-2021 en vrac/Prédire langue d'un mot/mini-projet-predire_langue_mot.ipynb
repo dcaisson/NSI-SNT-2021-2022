{
 "cells": [
  {
   "cell_type": "markdown",
   "metadata": {},
   "source": [
    "# Mini-projet &ndash; Prédire la langue d'origine d'un mot"
   ]
  },
  {
   "cell_type": "markdown",
   "metadata": {},
   "source": [
    "## Sommaire<a id=\"sommaire\"></a>\n",
    "[**Objectif**](#objectif)    \n",
    "[**1. Travail sur les données**](#travail-sur-donnees)  \n",
    "&nbsp;&nbsp;&nbsp;&nbsp;[1.1 Lecture et écriture de fichiers CSV](#lecture-ecriture-csv)  \n",
    "&nbsp;&nbsp;&nbsp;&nbsp;[1.2 Fonction ``nb_voyelles``](#fonction-nb_voyelles)    \n",
    "&nbsp;&nbsp;&nbsp;&nbsp;[1.3 Travail sur les données](#travail-sur-les-donnees)    \n",
    "[**2. Représentation à l'aide de ``matplotlib``**](#matplotlib)  \n",
    "[**3. Classification à l'aide de l'algorithme des $k$ plus proches voisins**](#classification-knn)   \n",
    "&nbsp;&nbsp;&nbsp;&nbsp;[3.1 Fonction ``distance``](#fonction-distance)  \n",
    "&nbsp;&nbsp;&nbsp;&nbsp;[3.2 Trouver les $k$ plus proches voisins d'un nouveau mot](#trouver-kppv)  \n",
    "&nbsp;&nbsp;&nbsp;&nbsp;[3.3 Fonction ``occurrences_origines``](#fonction-occurrences_origines)    \n",
    "&nbsp;&nbsp;&nbsp;&nbsp;[3.4 Déterminer l'origine majoritaire](#determiner-origine-majoritaire)    \n",
    "&nbsp;&nbsp;&nbsp;&nbsp;[3.5 Classification d'un nouveau mot](#classification-nouveau-mot)"
   ]
  },
  {
   "cell_type": "markdown",
   "metadata": {},
   "source": [
    "## Objectif<a id=\"objectif\"></a>"
   ]
  },
  {
   "cell_type": "markdown",
   "metadata": {},
   "source": [
    "[Retour au sommaire](#sommaire)"
   ]
  },
  {
   "cell_type": "markdown",
   "metadata": {},
   "source": [
    "L'objectif de ce projet est de prédire la langue d'origine d'un mot en utilisant l'algorithme des $k$ plus proches voisins. On se limitera à des mots français et allemands."
   ]
  },
  {
   "cell_type": "markdown",
   "metadata": {},
   "source": [
    "## 1. Travail sur les données<a id=\"travail-sur-donnees\"></a>"
   ]
  },
  {
   "cell_type": "markdown",
   "metadata": {},
   "source": [
    "[Retour au sommaire](#sommaire)"
   ]
  },
  {
   "cell_type": "markdown",
   "metadata": {},
   "source": [
    "Le fichier ``echantillon_mots.csv`` contient une liste de mots avec leur origine."
   ]
  },
  {
   "cell_type": "markdown",
   "metadata": {},
   "source": [
    "### 1.1 Lecture et écriture de fichiers CSV<a id=\"lecture-ecriture-csv\"></a>"
   ]
  },
  {
   "cell_type": "markdown",
   "metadata": {},
   "source": [
    "[Retour au sommaire](#sommaire)"
   ]
  },
  {
   "cell_type": "markdown",
   "metadata": {},
   "source": [
    "<font style=\"color:rgb(113,65,224)\">**Exercice**    \n",
    "1. Écrire une fonction ``ouvrir_csv`` qui prend en paramètre une chaîne de caractères (le nom d'un fichier) et qui renvoie les données de ce fichier sous forme d'une liste de dictionnaires.</font>"
   ]
  },
  {
   "cell_type": "code",
   "execution_count": 20,
   "metadata": {},
   "outputs": [],
   "source": [
    "# À vous de jouer !\n",
    "def ouvrir_csv(fichier):\n",
    "    pass"
   ]
  },
  {
   "cell_type": "markdown",
   "metadata": {},
   "source": [
    "<font style=\"color:rgb(113,65,224)\">2. Lire alors le contenu du fichier ``echantillon_mots.csv``.</font>"
   ]
  },
  {
   "cell_type": "code",
   "execution_count": 2,
   "metadata": {
    "scrolled": true
   },
   "outputs": [],
   "source": [
    "# À vous de jouer !\n",
    "pass"
   ]
  },
  {
   "cell_type": "markdown",
   "metadata": {},
   "source": [
    "<font style=\"color:rgb(113,65,224)\">3. Écrire une fonction ``ecrire_csv`` qui prend en paramètres :\n",
    "  - une chaîne de caractères ``fichier_sortie`` (le nom du fichier CSV de sortie) ;\n",
    "  - une liste d'attributs ``attributs`` (pour la première ligne du fichier CSV de sortie);\n",
    "  - une liste de dictionnaires ``donnees``,\n",
    "    \n",
    "et qui écrit dans le fichier CSV les données présentes dans la liste ``donnees``.</font>"
   ]
  },
  {
   "cell_type": "code",
   "execution_count": 21,
   "metadata": {},
   "outputs": [],
   "source": [
    "# À vous de jouer !\n",
    "def ecrire_csv(fichier, attributs, donnees):\n",
    "    pass"
   ]
  },
  {
   "cell_type": "markdown",
   "metadata": {},
   "source": [
    "### 1.2 Fonction ``nb_voyelles``<a id=\"fonction-nb_voyelles\"></a>"
   ]
  },
  {
   "cell_type": "markdown",
   "metadata": {},
   "source": [
    "[Retour au sommaire](#sommaire)"
   ]
  },
  {
   "cell_type": "markdown",
   "metadata": {},
   "source": [
    "<font style=\"color:rgb(113,65,224)\">**Exercice**    \n",
    "On souhaite écrire une fonction ``nb_voyelles`` qui prend en paramètre un mot (chaîne de caractères) et qui renvoie le nombre de voyelles de ce mot.\n",
    "\n",
    "1. Écrire trois tests pour la fonction ``nb_voyelles``.\n",
    "2. Écrire la fonction ``nb_voyelles`` puis vérifier qu'elle passe les tests écrits.</font>"
   ]
  },
  {
   "cell_type": "code",
   "execution_count": 22,
   "metadata": {},
   "outputs": [],
   "source": [
    "# À vous de jouer !\n",
    "def nb_voyelles(mot):\n",
    "    pass"
   ]
  },
  {
   "cell_type": "code",
   "execution_count": 137,
   "metadata": {},
   "outputs": [],
   "source": [
    "# Tests de la fonction nb_voyelles à écrire ici\n",
    "assert nb_voyelles(\"marin\") == 2\n",
    "assert nb_voyelles(\"louveteau\") == 6\n",
    "assert nb_voyelles(\"parachute\") == 4"
   ]
  },
  {
   "cell_type": "markdown",
   "metadata": {},
   "source": [
    "### 1.3 Travail sur les données<a id=\"travail-sur-les-donnees\"></a>"
   ]
  },
  {
   "cell_type": "markdown",
   "metadata": {},
   "source": [
    "[Retour au sommaire](#sommaire)"
   ]
  },
  {
   "cell_type": "markdown",
   "metadata": {},
   "source": [
    "<font style=\"color:rgb(113,65,224)\">**Exercice**    \n",
    "1. Créer un fichier ``echantillon_mots_complete.csv`` obtenu à partir du fichier ``echantillon_mots.csv`` en ajoutant le nombre de voyelles ``nb_voyelles`` et la longueur ``longueur``.</font>"
   ]
  },
  {
   "cell_type": "code",
   "execution_count": 23,
   "metadata": {},
   "outputs": [],
   "source": [
    "# À vous de jouer !\n",
    "pass"
   ]
  },
  {
   "cell_type": "markdown",
   "metadata": {},
   "source": [
    "<font style=\"color:rgb(113,65,224)\">2. Vérifier que le résultat semble correct, en utilisant par exemple la fonction ``ouvrir_csv``.</font>"
   ]
  },
  {
   "cell_type": "code",
   "execution_count": 6,
   "metadata": {
    "scrolled": true
   },
   "outputs": [],
   "source": [
    "# À vous de jouer !\n",
    "pass"
   ]
  },
  {
   "cell_type": "markdown",
   "metadata": {},
   "source": [
    "## 2. Représentation à l'aide de ``matplotlib``<a id=\"matplotlib\"></a>"
   ]
  },
  {
   "cell_type": "markdown",
   "metadata": {},
   "source": [
    "[Retour au sommaire](#sommaire)"
   ]
  },
  {
   "cell_type": "markdown",
   "metadata": {},
   "source": [
    "<font style=\"color:rgb(113,65,224)\">**Exercice**    \n",
    "À l'aide de la bibliothèque ``matplotlib``, représenter les données du fichier ``echantillon_mots_complete.csv``. On représentera le nombre de voyelles en fonction de la longueur du mot.</font>"
   ]
  },
  {
   "cell_type": "code",
   "execution_count": 9,
   "metadata": {},
   "outputs": [],
   "source": [
    "# À vous de jouer\n",
    "import matplotlib as plt\n",
    "pass"
   ]
  },
  {
   "cell_type": "markdown",
   "metadata": {},
   "source": [
    " [Retour au sommaire](#sommaire) "
   ]
  },
  {
   "cell_type": "markdown",
   "metadata": {},
   "source": [
    "<font style=\"color:rgb(113,65,224)\">**Exercice**    \n",
    "Faire apparaître les mots anoure, ohrwurm et vitrine sur le graphique précédent.</font>"
   ]
  },
  {
   "cell_type": "code",
   "execution_count": 8,
   "metadata": {},
   "outputs": [],
   "source": [
    "# À vous de jouer\n",
    "pass"
   ]
  },
  {
   "cell_type": "markdown",
   "metadata": {},
   "source": [
    "## 3. Classification à l'aide de l'algorithme des $k$ plus proches voisins<a id=\"classification-knn\"></a>"
   ]
  },
  {
   "cell_type": "markdown",
   "metadata": {},
   "source": [
    " [Retour au sommaire](#sommaire) "
   ]
  },
  {
   "cell_type": "markdown",
   "metadata": {},
   "source": [
    "### 3.1 Fonction ``distance``<a id=\"fonction-distance\"></a>"
   ]
  },
  {
   "cell_type": "markdown",
   "metadata": {},
   "source": [
    " [Retour au sommaire](#sommaire) "
   ]
  },
  {
   "cell_type": "markdown",
   "metadata": {},
   "source": [
    "<font style=\"color:rgb(113,65,224)\">**Exercice**   \n",
    "Écrire une fonction ``distance`` qui prend en paramètres :\n",
    "- ``longueur_A`` et ``nb_voyelles_A`` : la longueur et le nombre de voyelles d'un premier mot ;\n",
    "- ``longueur_B`` et ``nb_voyelles_B`` : la longueur et le nombre de voyelles d'un second mot,\n",
    "\n",
    "et qui renvoie la distance entre les deux mots donnée par :\n",
    "\n",
    "\n",
    "$\\sqrt{(\\text{longueur_A}-\\text{longueur_B})^2+(\\text{nb_voyelles_A}-\\text{nb_voyelles_B})^2}$</font>"
   ]
  },
  {
   "cell_type": "code",
   "execution_count": 24,
   "metadata": {},
   "outputs": [],
   "source": [
    "# À vous de jouer !\n",
    "from math import sqrt\n",
    "\n",
    "\n",
    "def distance(longueur_A, nb_voyelles_A, longueur_B, nb_voyelles_B):\n",
    "    pass"
   ]
  },
  {
   "cell_type": "markdown",
   "metadata": {},
   "source": [
    "### 3.2 Trouver les $k$ plus proches voisins d'un nouveau mot<a id=\"trouver-kppv\"></a>"
   ]
  },
  {
   "cell_type": "markdown",
   "metadata": {},
   "source": [
    " [Retour au sommaire](#sommaire) "
   ]
  },
  {
   "cell_type": "markdown",
   "metadata": {},
   "source": [
    "<font style=\"color:rgb(113,65,224)\">**Exercice**    \n",
    "Écrire une fonction ``kppv`` qui prend en paramètres :\n",
    "- une liste ``echantillon`` de mots (de dictionnaires ayant quatre clés : le mot, la longueur, le nombre de voyelles du mot et l'origine du mot) ;\n",
    "- un entier naturel non nul ``k`` ;\n",
    "- la longueur ``longueur`` et le nombre de voyelles ``nb_voyelles`` d'un nouveau mot,\n",
    "\n",
    "et qui renvoie les $k$ plus proches voisins de ce nouveau mot.</font>"
   ]
  },
  {
   "cell_type": "code",
   "execution_count": 12,
   "metadata": {},
   "outputs": [],
   "source": [
    "# À vous de jouer !\n",
    "def kppv(echantillon, k, longueur, largeur):\n",
    "    pass"
   ]
  },
  {
   "cell_type": "code",
   "execution_count": 144,
   "metadata": {},
   "outputs": [],
   "source": [
    "# Un test pour vérifier votre travail\n",
    "echantillon = ouvrir_csv('echantillon_mots_complete.csv')"
   ]
  },
  {
   "cell_type": "markdown",
   "metadata": {},
   "source": [
    "### 3.3 Fonction ``occurrences_origines``<a id=\"fonction-occurrences_origines\"></a>"
   ]
  },
  {
   "cell_type": "markdown",
   "metadata": {},
   "source": [
    " [Retour au sommaire](#sommaire) "
   ]
  },
  {
   "cell_type": "markdown",
   "metadata": {},
   "source": [
    "<font style=\"color:rgb(113,65,224)\">**Exercice**    \n",
    "On souhaite écrire une fonction ``occurrences_origines`` qui prend en paramètre une liste de mots ``echantillon`` et qui renvoie un dictionnaire dont les clés sont ``'français'`` et ``'allemand'`` et les valeurs le nombre de mots de chaque origine.\n",
    "1. Sachant que le jeu de données contient $13$ mots français et $13$ mots allemands, compléter le test de la fonction ``occurrences_origines``.\n",
    "2. Écrire alors la fonction ``occurrences_origines``, puis utiliser le test écrit précédemment.</font>"
   ]
  },
  {
   "cell_type": "code",
   "execution_count": 13,
   "metadata": {},
   "outputs": [],
   "source": [
    "# À vous de jouer !\n",
    "def occurrences_origines(echantillon):\n",
    "    pass"
   ]
  },
  {
   "cell_type": "code",
   "execution_count": 148,
   "metadata": {},
   "outputs": [],
   "source": [
    "# Un test à compléter\n",
    "echantillon = ouvrir_csv('echantillon_mots_complete.csv')\n",
    "assert occurrences_origines(echantillon) == {'français': 13, \n",
    "                                             'allemand': 13}"
   ]
  },
  {
   "cell_type": "markdown",
   "metadata": {},
   "source": [
    "### 3.4 Déterminer l'origine majoritaire<a id=\"determiner-origine-majoritaire\"></a>"
   ]
  },
  {
   "cell_type": "markdown",
   "metadata": {},
   "source": [
    "[Retour au sommaire](#sommaire)"
   ]
  },
  {
   "cell_type": "markdown",
   "metadata": {},
   "source": [
    "<font style=\"color:rgb(113,65,224)\">**Exercice**    \n",
    "On souhaite écrire une fonction ``origine_majoritaire`` qui prend en paramètre une liste de mots ``echantillon`` et qui renvoie l'origine majoritaire dans cette liste.\n",
    "1. Compléter le test de la fonction ``origine_majoritaire``.\n",
    "2. Écrire la fonction ``origine_majoritaire``, puis utiliser le test écrit précédemment.</font>"
   ]
  },
  {
   "cell_type": "code",
   "execution_count": 14,
   "metadata": {},
   "outputs": [],
   "source": [
    "# À vous de jouer !\n",
    "def origine_majoritaire(echantillon):\n",
    "    pass"
   ]
  },
  {
   "cell_type": "code",
   "execution_count": 163,
   "metadata": {},
   "outputs": [],
   "source": [
    "# Un test à compléter\n",
    "echantillon = [{'mot': 'dich', 'origine': 'allemand'}, \n",
    "               {'mot': 'eher', 'origine': 'allemand'}, \n",
    "               {'mot': 'statt', 'origine': 'allemand'}, \n",
    "               {'mot': 'guten', 'origine': 'allemand'}, \n",
    "               {'mot': 'moyen', 'origine': 'français'}, \n",
    "               {'mot': 'prendre', 'origine': 'français'}, \n",
    "               {'mot': 'pouvoir', 'origine': 'français'}\n",
    "              ]\n",
    "assert origine_majoritaire(echantillon) == 'allemand'"
   ]
  },
  {
   "cell_type": "markdown",
   "metadata": {},
   "source": [
    "### 3.5 Classification d'un nouveau mot<a id=\"classification-nouveau-mot\"></a>"
   ]
  },
  {
   "cell_type": "markdown",
   "metadata": {},
   "source": [
    " [Retour au sommaire](#sommaire) "
   ]
  },
  {
   "cell_type": "markdown",
   "metadata": {},
   "source": [
    "<font style=\"color:rgb(113,65,224)\">**Exercice**    \n",
    "Écrire une fonction ``classification`` qui prend en paramètres :\n",
    "- une liste de mots ``echantillon`` (de dictionnaires ayant quatre clés : le mot, la longueur, le nombre de voyelles et l'origine) ;\n",
    "- un entier naturel non nul ``k`` ;\n",
    "- la longueur ``longueur`` et le nombre de voyelles ``nb_voyelles`` d'un nouveau mot,\n",
    "\n",
    "et qui renvoie l'origine majoritaire parmi les $k$ plus proches voisins du nouveau mot.</font>"
   ]
  },
  {
   "cell_type": "code",
   "execution_count": 15,
   "metadata": {},
   "outputs": [],
   "source": [
    "# À vous de jouer !\n",
    "def classification(echantillon, k, longueur, nb_voyelles):\n",
    "    pass"
   ]
  },
  {
   "cell_type": "markdown",
   "metadata": {},
   "source": [
    "<font style=\"color:rgb(113,65,224)\">**Exercice**    \n",
    "1. Classer alors les mots anoure, ohrwurm et vitrine en utilisant $k=7$.</font>"
   ]
  },
  {
   "cell_type": "code",
   "execution_count": 17,
   "metadata": {},
   "outputs": [],
   "source": [
    "# On classe le mot anoure\n",
    "pass"
   ]
  },
  {
   "cell_type": "code",
   "execution_count": 18,
   "metadata": {
    "scrolled": true
   },
   "outputs": [],
   "source": [
    "# On classe le mot ohrwurm\n",
    "pass"
   ]
  },
  {
   "cell_type": "code",
   "execution_count": 19,
   "metadata": {
    "scrolled": true
   },
   "outputs": [],
   "source": [
    "# On classe le mot vitrine\n",
    "pass"
   ]
  },
  {
   "cell_type": "markdown",
   "metadata": {},
   "source": [
    "<font style=\"color:rgb(113,65,224)\">2. Quelle remarque peut-on faire ?</font>"
   ]
  },
  {
   "cell_type": "markdown",
   "metadata": {},
   "source": [
    "*Répondre dans cette cellule*"
   ]
  },
  {
   "cell_type": "markdown",
   "metadata": {},
   "source": [
    "<a rel=\"license\" href=\"http://creativecommons.org/licenses/by-nc-sa/4.0/\"><img alt=\"Licence Creative Commons\" style=\"border-width:0\" src=\"https://i.creativecommons.org/l/by-nc-sa/4.0/88x31.png\" /></a><br />Ce(tte) œuvre est mise à disposition selon les termes de la <a rel=\"license\" href=\"http://creativecommons.org/licenses/by-nc-sa/4.0/\">Licence Creative Commons Attribution - Pas d’Utilisation Commerciale - Partage dans les Mêmes Conditions 4.0 International</a>."
   ]
  }
 ],
 "metadata": {
  "kernelspec": {
   "display_name": "Python 3",
   "language": "python",
   "name": "python3"
  },
  "language_info": {
   "codemirror_mode": {
    "name": "ipython",
    "version": 3
   },
   "file_extension": ".py",
   "mimetype": "text/x-python",
   "name": "python",
   "nbconvert_exporter": "python",
   "pygments_lexer": "ipython3",
   "version": "3.8.8"
  },
  "latex_envs": {
   "LaTeX_envs_menu_present": true,
   "autoclose": false,
   "autocomplete": true,
   "bibliofile": "biblio.bib",
   "cite_by": "apalike",
   "current_citInitial": 1,
   "eqLabelWithNumbers": true,
   "eqNumInitial": 1,
   "hotkeys": {
    "equation": "Ctrl-E",
    "itemize": "Ctrl-I"
   },
   "labels_anchors": false,
   "latex_user_defs": false,
   "report_style_numbering": false,
   "user_envs_cfg": false
  }
 },
 "nbformat": 4,
 "nbformat_minor": 2
}
