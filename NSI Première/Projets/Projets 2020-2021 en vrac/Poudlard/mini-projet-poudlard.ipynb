{
 "cells": [
  {
   "cell_type": "markdown",
   "metadata": {},
   "source": [
    "# Mini-projet &ndash; Harry Potter"
   ]
  },
  {
   "cell_type": "markdown",
   "metadata": {},
   "source": [
    "## 1. Introduction"
   ]
  },
  {
   "cell_type": "markdown",
   "metadata": {},
   "source": [
    "À l'entrée de l'école de Poudlard, le Choixpeau magique répartit les élèves dans les différentes maisons (Gryffondor, Serpentard, Serdaigle et Poufsouffle) en fonction de leur courage, leur loyauté, leur sagesse et leur malice.   \n",
    "\n",
    "Le Choixpeau magique dispose d'un fichier CSV (``choixpeau.csv``) dans lequel sont répertoriés les données d'un échantillon d'élèves."
   ]
  },
  {
   "cell_type": "markdown",
   "metadata": {},
   "source": [
    "Voici les 6 premières lignes de ce fichier :   \n",
    "\n",
    "|    Nom   | Courage | Loyauté | Sagesse | Malice |   Maison   |\n",
    "|:--------:|:-------:|:-------:|:-------:|:------:|:----------:|\n",
    "|  Adrian  |    9    |    4    |    7    |   10   | Serpentard |\n",
    "|  Andrew  |    9    |    3    |    4    |    7   | Gryffondor |\n",
    "| Angelina |    10   |    6    |    5    |    9   | Gryffondor |\n",
    "|  Anthony |    2    |    8    |    8    |    3   |  Serdaigle |\n",
    "|  Arthur  |    10   |    4    |    2    |    5   | Gryffondor |"
   ]
  },
  {
   "cell_type": "markdown",
   "metadata": {},
   "source": [
    "Et voici les élèves que le Choixpeau magique souhaite orienter :   \n",
    "\n",
    "|    Nom   | Courage | Loyauté | Sagesse | Malice |\n",
    "|:--------:|:-------:|:-------:|:-------:|:------:|\n",
    "| Hermione |    8    |    6    |    6    |    6   |\n",
    "|   Drago  |    6    |    6    |    5    |    8   |\n",
    "|    Cho   |    7    |    6    |    9    |    6   |\n",
    "|  Cédric  |    7    |    10   |    5    |    6   |"
   ]
  },
  {
   "cell_type": "markdown",
   "metadata": {},
   "source": [
    "L'objectif de ce projet est d'aider le Choixpeau à déterminer la maison des nouveaux élèves."
   ]
  },
  {
   "cell_type": "markdown",
   "metadata": {},
   "source": [
    "## 2. Modéliser un élève"
   ]
  },
  {
   "cell_type": "markdown",
   "metadata": {},
   "source": [
    "On décide de modéliser un élève par un dictionnaire avec les données à disposition. Par exemple :"
   ]
  },
  {
   "cell_type": "code",
   "execution_count": null,
   "metadata": {},
   "outputs": [],
   "source": [
    "adrian = {\"nom\": \"Adrian\", \"courage\": 9, \"loyauté\": 4,\n",
    "          \"sagesse\": 7, \"malice\": 10, \"maison\": \"Serpentard\"}"
   ]
  },
  {
   "cell_type": "code",
   "execution_count": null,
   "metadata": {},
   "outputs": [],
   "source": [
    "hermione = {\"nom\": \"Hermione\", \"courage\": 8, \"loyauté\": 6,\n",
    "            \"sagesse\": 6, \"malice\": 6}"
   ]
  },
  {
   "cell_type": "markdown",
   "metadata": {},
   "source": [
    "1. Donner la modélisation de l'élève Anthony."
   ]
  },
  {
   "cell_type": "code",
   "execution_count": null,
   "metadata": {},
   "outputs": [],
   "source": [
    "# Répondre dans cette cellule"
   ]
  },
  {
   "cell_type": "markdown",
   "metadata": {},
   "source": [
    "2. On décide d'utiliser la distance de Manhattan pour calculer la distance entre deux élèves, c'est-à-dire (avec des notations évidentes) :\n",
    "\n",
    "``distance(eleve1, eleve2) = |C1 - C2| + |L1 - L2| + |S1 - S2| + |M1 - M2|``"
   ]
  },
  {
   "cell_type": "markdown",
   "metadata": {},
   "source": [
    "a. Vérifier que la distance entre Hermione et Adrian est égale à $8$."
   ]
  },
  {
   "cell_type": "markdown",
   "metadata": {},
   "source": [
    "*Répondre dans cette cellule*"
   ]
  },
  {
   "cell_type": "markdown",
   "metadata": {},
   "source": [
    "b. Quelle est la distance entre Arthur et Drago ?"
   ]
  },
  {
   "cell_type": "markdown",
   "metadata": {},
   "source": [
    "*Répondre dans cette cellule*"
   ]
  },
  {
   "cell_type": "markdown",
   "metadata": {},
   "source": [
    "c. Écrire une fonction ``distance`` qui prend en paramètres deux élèves (représentés chacun par un dictionnaire) et qui renvoie la distance (de Manhattan) entre ces deux élèves."
   ]
  },
  {
   "cell_type": "code",
   "execution_count": null,
   "metadata": {},
   "outputs": [],
   "source": [
    "# À vous de jouer\n",
    "def distance(eleve1, eleve2):\n",
    "    pass"
   ]
  },
  {
   "cell_type": "markdown",
   "metadata": {},
   "source": [
    "## 3. Fichier CSV"
   ]
  },
  {
   "cell_type": "markdown",
   "metadata": {},
   "source": [
    "3. Écrire une fonction ``lire_csv`` qui prend en paramètre un fichier CSV contenant les données d'élèves et qui renvoie une liste contenant ces données. Plus précisément, la fonction ``lire_csv`` renvoie une liste de dictionnaires, chaque dictionnaire modélisant un élève.   \n",
    "\n",
    "   *Aide 1 : la fonction ``strip`` pourra être utile...*   \n",
    "   *Aide 2 : attention, certaines valeurs de chaque dictionnaire sont des entiers !*"
   ]
  },
  {
   "cell_type": "code",
   "execution_count": null,
   "metadata": {},
   "outputs": [],
   "source": [
    "# À vous de jouer\n",
    "def lire_csv(fichier):\n",
    "    pass"
   ]
  },
  {
   "cell_type": "code",
   "execution_count": null,
   "metadata": {},
   "outputs": [],
   "source": [
    "# Test\n",
    "lire_csv(\"choixpeau.csv\")"
   ]
  },
  {
   "cell_type": "markdown",
   "metadata": {},
   "source": [
    "## 4. Trouver la maison majoritaire"
   ]
  },
  {
   "cell_type": "markdown",
   "metadata": {},
   "source": [
    "4. Écrire une fonction ``occurrence_maisons`` qui prend en paramètre une liste d'élèves et qui renvoie un dictionnaire dont :\n",
    "   - les clés sont les maisons (chaînes de caractères) ;\n",
    "   - les valeurs sont le nombre de fois où chaque maison apparaît."
   ]
  },
  {
   "cell_type": "code",
   "execution_count": null,
   "metadata": {},
   "outputs": [],
   "source": [
    "# À vous de jouer\n",
    "def occurrence_maisons(liste):\n",
    "    pass"
   ]
  },
  {
   "cell_type": "code",
   "execution_count": null,
   "metadata": {},
   "outputs": [],
   "source": [
    "# Test\n",
    "liste = lire_csv(\"choixpeau.csv\")\n",
    "assert occurrence_maisons(liste) == {\"Serpentard\": 12, \"Gryffondor\": 17, \"Serdaigle\": 11, \"Poufsouffle\": 10}"
   ]
  },
  {
   "cell_type": "markdown",
   "metadata": {},
   "source": [
    "5. Écrire une fonction ``maison_majoritaire`` qui prend en paramètre une liste d'élèves et qui renvoie le nom de la maison la plus représentée."
   ]
  },
  {
   "cell_type": "code",
   "execution_count": null,
   "metadata": {},
   "outputs": [],
   "source": [
    "# À vous de jouer\n",
    "def maison_majoritaire(liste):\n",
    "    pass"
   ]
  },
  {
   "cell_type": "code",
   "execution_count": null,
   "metadata": {},
   "outputs": [],
   "source": [
    "# Test\n",
    "assert maison_majoritaire(liste) == \"Gryffondor\""
   ]
  },
  {
   "cell_type": "markdown",
   "metadata": {},
   "source": [
    "## 5. Les sept plus proches voisins"
   ]
  },
  {
   "cell_type": "markdown",
   "metadata": {},
   "source": [
    "6. Écrire une fonction ``sept_plus_proches_voisins`` qui prend en paramètres :\n",
    "   - une liste d'élèves ``table`` ;\n",
    "   - un nouvel élève ``nouveau`` qui n'a pas encore de maison,    \n",
    "et qui renvoie la liste des 7 plus proches voisins du nouvel élève."
   ]
  },
  {
   "cell_type": "code",
   "execution_count": null,
   "metadata": {},
   "outputs": [],
   "source": [
    "# À vous de jouer\n",
    "def sept_plus_proches_voisins(table, nouveau):\n",
    "    pass"
   ]
  },
  {
   "cell_type": "markdown",
   "metadata": {},
   "source": [
    "## 6. Attribuer une maison"
   ]
  },
  {
   "cell_type": "markdown",
   "metadata": {},
   "source": [
    "7. Écrire une fonction ``attribuer_maison`` qui prend en paramètres :\n",
    "   - une liste d'élèves ``table`` ;\n",
    "   - un nouvel élève ``nouveau`` qui n'a pas encore de maison,     \n",
    "   et qui renvoie la maison du nouvel élève (la maison majoritaire parmi les 7 plus proches voisins du nouvel élève)"
   ]
  },
  {
   "cell_type": "code",
   "execution_count": null,
   "metadata": {},
   "outputs": [],
   "source": [
    "# À vous de jouer\n",
    "def attribuer_maison(tablea, nouveau):\n",
    "    pass"
   ]
  }
 ],
 "metadata": {
  "kernelspec": {
   "display_name": "Python 3",
   "language": "python",
   "name": "python3"
  },
  "language_info": {
   "codemirror_mode": {
    "name": "ipython",
    "version": 3
   },
   "file_extension": ".py",
   "mimetype": "text/x-python",
   "name": "python",
   "nbconvert_exporter": "python",
   "pygments_lexer": "ipython3",
   "version": "3.8.7"
  }
 },
 "nbformat": 4,
 "nbformat_minor": 2
}
