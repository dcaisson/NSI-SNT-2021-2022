{
 "cells": [
  {
   "cell_type": "markdown",
   "metadata": {},
   "source": [
    "# Mini-projet &ndash; Fichiers et API"
   ]
  },
  {
   "cell_type": "markdown",
   "metadata": {},
   "source": [
    "## 1. La fonction ``split``"
   ]
  },
  {
   "cell_type": "markdown",
   "metadata": {},
   "source": [
    "1. Que fait la fonction ``split`` ?"
   ]
  },
  {
   "cell_type": "markdown",
   "metadata": {},
   "source": [
    "*Répondre ici*"
   ]
  },
  {
   "cell_type": "markdown",
   "metadata": {},
   "source": [
    "2. Donner un exemple d'utilisation de cette fonction."
   ]
  },
  {
   "cell_type": "code",
   "execution_count": null,
   "metadata": {},
   "outputs": [],
   "source": [
    "#À vous de jouer"
   ]
  },
  {
   "cell_type": "markdown",
   "metadata": {},
   "source": [
    "## 2. Fonction ``occurrences``"
   ]
  },
  {
   "cell_type": "markdown",
   "metadata": {},
   "source": [
    "3. Écrire une fonction ``occurrences`` qui prend en paramètre une liste et renvoie un dictionnaire donnant, pour chaque valeur de la liste, le nombre de fois que cette valeur apparaît.   \n",
    "**Remarque. &ndash; Ne pas oublier d'écrire la documentation de cette fonction**"
   ]
  },
  {
   "cell_type": "code",
   "execution_count": null,
   "metadata": {},
   "outputs": [],
   "source": [
    "#À vous de jouer\n",
    "def occurrences(liste):\n",
    "    pass"
   ]
  },
  {
   "cell_type": "markdown",
   "metadata": {},
   "source": [
    "## 3. Lire le contenu d'un fichier texte"
   ]
  },
  {
   "cell_type": "markdown",
   "metadata": {},
   "source": [
    "4. Grâce à Python, on peut facilement lire un fichier. Essayer et comprendre les commandes suivantes :"
   ]
  },
  {
   "cell_type": "code",
   "execution_count": null,
   "metadata": {},
   "outputs": [],
   "source": [
    "with open(\"joyeux-noel.txt\", \"r\") as fichier :\n",
    "    for ligne in fichier:\n",
    "        print(ligne)"
   ]
  },
  {
   "cell_type": "markdown",
   "metadata": {},
   "source": [
    "5. Écrire une procédure Python ``afficher`` qui affiche le contenu d'un fichier ligne par ligne.   \n",
    "**Remarque. &ndash; Ne pas oublier d'écrire la documentation de cette fonction.**"
   ]
  },
  {
   "cell_type": "code",
   "execution_count": null,
   "metadata": {},
   "outputs": [],
   "source": [
    "def afficher(fichier):\n",
    "    pass"
   ]
  },
  {
   "cell_type": "code",
   "execution_count": null,
   "metadata": {
    "scrolled": false
   },
   "outputs": [],
   "source": [
    "#À essayer\n",
    "afficher(\"joyeux-noel.txt\")"
   ]
  },
  {
   "cell_type": "markdown",
   "metadata": {},
   "source": [
    "## 4. Un bon Anglais ne plaisante jamais..."
   ]
  },
  {
   "cell_type": "markdown",
   "metadata": {},
   "source": [
    "Le site du [*Projet Gutenberg*](http://gutenberg.org/) permet de télécharger librement le texte d'oeuvres du domaine public, notamment des oeuvres en français.   \n",
    "\n",
    "Le fichier ``tour-du-monde.txt`` contient le texte du roman *Le tour du monde en quatre-vingts jours* de Jules Verne. Il s'agit d'une version sans ponctuation.   \n",
    "\n",
    "On souhaite déterminer le mot de 7 lettres le plus fréquent du roman."
   ]
  },
  {
   "cell_type": "markdown",
   "metadata": {},
   "source": [
    "6. Écrire une fonction ``occurrences_mots`` qui renvoie le dictionnaire dont les clés sont les mots du fichier donné en paramètre, et dont les valeurs sont les occurrences de ces mots.   \n",
    "**Remarque. &ndash; Ne pas oublier d'écrire la documentation de cette fonction.**"
   ]
  },
  {
   "cell_type": "code",
   "execution_count": null,
   "metadata": {},
   "outputs": [],
   "source": [
    "def occurrences_mots(fichier):\n",
    "    pass"
   ]
  },
  {
   "cell_type": "code",
   "execution_count": null,
   "metadata": {},
   "outputs": [],
   "source": [
    "# À essayer\n",
    "occurrences_mots(\"tour-du-monde.txt\")"
   ]
  },
  {
   "cell_type": "markdown",
   "metadata": {},
   "source": [
    "7. Écrire une fonction ``plus_frequent`` qui prend en paramètres un dictionnaire ``d`` et un entier (non nul) ``k`` et qui renvoie le mot de ``k`` lettres qui est associé, dans le dictionnaire ``d``, à la plus grande valeur. \n",
    "  - La fonction renvoie la chaîne vide si ``d`` ne contient aucun mot de ``k`` lettres.\n",
    "  - En cas d'égalité, on choisira au hasard.   \n",
    "  **Remarque. &ndash; Ne pas oublier d'écrire la documentation de cette fonction.**"
   ]
  },
  {
   "cell_type": "code",
   "execution_count": null,
   "metadata": {},
   "outputs": [],
   "source": [
    "def plus_frequent(d, k):\n",
    "    pass"
   ]
  },
  {
   "cell_type": "code",
   "execution_count": null,
   "metadata": {},
   "outputs": [],
   "source": [
    "#À essayer\n",
    "plus_frequent(occurrences_mots(\"tour-du-monde.txt\"), 7)"
   ]
  }
 ],
 "metadata": {
  "kernelspec": {
   "display_name": "Python 3",
   "language": "python",
   "name": "python3"
  },
  "language_info": {
   "codemirror_mode": {
    "name": "ipython",
    "version": 3
   },
   "file_extension": ".py",
   "mimetype": "text/x-python",
   "name": "python",
   "nbconvert_exporter": "python",
   "pygments_lexer": "ipython3",
   "version": "3.8.6"
  }
 },
 "nbformat": 4,
 "nbformat_minor": 4
}
