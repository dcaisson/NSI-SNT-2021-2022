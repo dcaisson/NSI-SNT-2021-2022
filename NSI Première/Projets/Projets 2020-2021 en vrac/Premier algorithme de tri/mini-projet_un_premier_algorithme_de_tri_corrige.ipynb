{
 "cells": [
  {
   "cell_type": "markdown",
   "metadata": {},
   "source": [
    "# Mini-projet &ndash; Un premier algorithme de tri"
   ]
  },
  {
   "cell_type": "markdown",
   "metadata": {},
   "source": [
    "Le but de ce mini-projet est d'implémenter un premier algorithme de tri (on souhaite trier une liste de nombres)."
   ]
  },
  {
   "cell_type": "markdown",
   "metadata": {},
   "source": [
    "## 1. Échanger deux éléments d'une liste"
   ]
  },
  {
   "cell_type": "markdown",
   "metadata": {},
   "source": [
    "Écrire une procédure ``echanger(L, i, j)`` qui échange les éléments d'indices ``i`` et ``j`` d'une liste non vide ``L`` (``i`` et ``j`` étant deux entiers appartenant à $[\\![ 0; n-1]\\!]$ où $n$ est la longueur de la liste ``L``).   \n",
    "**Remarque. &ndash; Ne pas oublier de rédiger la documentation de cette procédure.**"
   ]
  },
  {
   "cell_type": "code",
   "execution_count": null,
   "metadata": {},
   "outputs": [],
   "source": [
    "# À vous de jouer !\n",
    "def echanger(L, i, j):\n",
    "    \"\"\" Échange les éléments d'indices i et j d'une liste non vide L\n",
    "    Entrées : - L une liste supposée non vide\n",
    "              - i et j deux entiers compris entre 0 (inclus) et len(L)-1 (inclus)\n",
    "    Par exemple : echanger([1, 2, 4, 3, 7], 2, 4) modifie la liste en [1, 2, 7, 3, 4]\n",
    "    \"\"\"\n",
    "    L[i], L[j] = L[j], L[i]"
   ]
  },
  {
   "cell_type": "markdown",
   "metadata": {},
   "source": [
    "## 2. Un algorithme de tri"
   ]
  },
  {
   "cell_type": "markdown",
   "metadata": {},
   "source": [
    "Voici le principe de l'algorithme de tri qu'on souhaite implémenter :\n",
    "- **Première étape** : on parcourt une première fois la liste en comparant les éléments consécutifs. Lorsque deux éléments consécutifs ne sont pas dans l'ordre, ils sont échangés."
   ]
  },
  {
   "cell_type": "markdown",
   "metadata": {},
   "source": [
    "1. Décrire cette première étape avec la liste suivante : ``[3, 1, 6, 2, 5, 9, 4]``.   \n",
    "*Remarque. &ndash; Répondre directement dans la cellule ci-dessous*."
   ]
  },
  {
   "cell_type": "markdown",
   "metadata": {},
   "source": [
    "La liste est modifiée de la façon suivante :\n",
    "- ``3`` est strictement supérieur à ``1`` :\n",
    "``[1, 3, 6, 2, 5, 9, 4]``\n",
    "- ``3`` est strictement inférieur à ``6`` : pas de modification\n",
    "- ``6`` est strictement supérieur à ``2`` :\n",
    "``[1, 3, 2, 6, 5, 9, 4]``\n",
    "- ``6`` est strictement supérieur à ``5`` :\n",
    "``[1, 3, 2, 5, 6, 9, 4]``\n",
    "- ``6`` est strictement inférieur à ``9`` : pas de modification\n",
    "- ``9`` est strictement supérieur à ``4`` :\n",
    "``[1, 3, 2, 5, 6, 4, 9]``"
   ]
  },
  {
   "cell_type": "markdown",
   "metadata": {},
   "source": [
    "2. À la fin de cette première étape, que constate-t-on ?"
   ]
  },
  {
   "cell_type": "markdown",
   "metadata": {},
   "source": [
    "On constate que l'élément le plus grand de la liste se trouve à la fin de la liste."
   ]
  },
  {
   "cell_type": "markdown",
   "metadata": {},
   "source": [
    "3. Que reste-t-il à faire pour trier la liste ?"
   ]
  },
  {
   "cell_type": "markdown",
   "metadata": {},
   "source": [
    "Il reste à trier le &laquo; début &raquo; de la liste."
   ]
  },
  {
   "cell_type": "markdown",
   "metadata": {},
   "source": [
    "## 3. Implémentation en Python"
   ]
  },
  {
   "cell_type": "markdown",
   "metadata": {},
   "source": [
    "4. Écrire une procédure ``trier(L)`` qui trie la liste ``L`` en utilisant l'algorithme précédent.   \n",
    "**Remarque. &ndash; Ne pas oublier de rédiger la documentation de cette procédure.**"
   ]
  },
  {
   "cell_type": "code",
   "execution_count": null,
   "metadata": {},
   "outputs": [],
   "source": [
    "# À vous de jouer !\n",
    "def trier(L):\n",
    "    \"\"\" Permet de trier une liste L (supposée non vide) de nombres.\n",
    "    - Entrée : une liste L (supposée non vide) de nombres\n",
    "    Par exemple : trier([3, 6, 5, 1, 2]) trie la liste qui est modifiée en \n",
    "    [1, 2, 3, 5, 6].\n",
    "    \"\"\"\n",
    "    n = len(L)\n",
    "    for i in range(n):\n",
    "        for j in range(n - i - 1):\n",
    "            if L[j] > L[j + 1]:\n",
    "                echanger(L, j + 1, j)"
   ]
  },
  {
   "cell_type": "code",
   "execution_count": null,
   "metadata": {},
   "outputs": [],
   "source": [
    "L = [3, 6, 5, 1, 2]\n",
    "trier(L)"
   ]
  },
  {
   "cell_type": "code",
   "execution_count": null,
   "metadata": {},
   "outputs": [],
   "source": [
    "L"
   ]
  },
  {
   "cell_type": "markdown",
   "metadata": {},
   "source": [
    "## 4. Une première approche de la complexité"
   ]
  },
  {
   "cell_type": "markdown",
   "metadata": {},
   "source": [
    "5. Combien d'échanges ont été nécessaires pour trier la liste ``[3, 6, 5, 1, 2]`` avec cet algorithme ?"
   ]
  },
  {
   "cell_type": "markdown",
   "metadata": {},
   "source": []
  },
  {
   "cell_type": "markdown",
   "metadata": {},
   "source": [
    "6. Donner une liste de longueur 5 nécessitant un nombre minimal d'échanges."
   ]
  },
  {
   "cell_type": "markdown",
   "metadata": {},
   "source": []
  },
  {
   "cell_type": "markdown",
   "metadata": {},
   "source": [
    "7. Donner une liste de longueur 5 nécessitant un nombre maximal d'échanges."
   ]
  },
  {
   "cell_type": "markdown",
   "metadata": {},
   "source": []
  }
 ],
 "metadata": {
  "kernelspec": {
   "display_name": "Python 3",
   "language": "python",
   "name": "python3"
  },
  "language_info": {
   "codemirror_mode": {
    "name": "ipython",
    "version": 3
   },
   "file_extension": ".py",
   "mimetype": "text/x-python",
   "name": "python",
   "nbconvert_exporter": "python",
   "pygments_lexer": "ipython3",
   "version": "3.8.5"
  }
 },
 "nbformat": 4,
 "nbformat_minor": 2
}
