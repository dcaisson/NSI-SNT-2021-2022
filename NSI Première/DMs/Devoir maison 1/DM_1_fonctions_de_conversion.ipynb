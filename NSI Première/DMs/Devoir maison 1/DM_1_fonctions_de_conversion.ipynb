{
 "cells": [
  {
   "cell_type": "markdown",
   "metadata": {},
   "source": [
    "# Nom, prénom et classe :"
   ]
  },
  {
   "cell_type": "markdown",
   "metadata": {},
   "source": [
    "# Devoir maison 1 &ndash; Fonctions de conversion"
   ]
  },
  {
   "cell_type": "markdown",
   "metadata": {},
   "source": [
    "Le but de ce devoir est de regrouper dans un même notebook toutes les fonctions de conversion (entre les bases $2$, $10$ et $16$) vues en cours, et d'écrire celles qui manquent.\n",
    "On portera une attention particulière à la rédaction de la documentation (*docstring*) de chaque fonction."
   ]
  },
  {
   "cell_type": "markdown",
   "metadata": {},
   "source": [
    "## 1. Les bases $2$ et $10$"
   ]
  },
  {
   "cell_type": "markdown",
   "metadata": {},
   "source": [
    "Réécrire ci-dessous les fonctions `dec2bin` et `bin2dec` permettant les conversions entre base $2$ et base $10$.   \n",
    "*Remarque . &ndash; Ne pas oublier de rédiger la documentation de chaque fonction (voir par exemple la partie 2.).*"
   ]
  },
  {
   "cell_type": "markdown",
   "metadata": {},
   "source": [
    "### Fonction `dec2bin`"
   ]
  },
  {
   "cell_type": "code",
   "execution_count": null,
   "metadata": {},
   "outputs": [],
   "source": [
    "# À vous de jouer !"
   ]
  },
  {
   "cell_type": "markdown",
   "metadata": {},
   "source": [
    "### Fonction `bin2dec`"
   ]
  },
  {
   "cell_type": "code",
   "execution_count": null,
   "metadata": {},
   "outputs": [],
   "source": [
    "# À vous de jouer !"
   ]
  },
  {
   "cell_type": "markdown",
   "metadata": {},
   "source": [
    "## 2. Les bases $10$ et $16$"
   ]
  },
  {
   "cell_type": "markdown",
   "metadata": {},
   "source": [
    "Écrire ci-dessous les fonctions `dec2hex` et `hex2dec` permettant les conversions entre base $10$ et base $16$."
   ]
  },
  {
   "cell_type": "markdown",
   "metadata": {},
   "source": [
    "### Fonction `hex2dec`"
   ]
  },
  {
   "cell_type": "code",
   "execution_count": null,
   "metadata": {},
   "outputs": [],
   "source": [
    "# À vous de jouer !\n",
    "def hex2dec(h):\n",
    "    \"\"\" Permet de convertir de la base 16 vers la base 10\n",
    "        Entrée : h est une chaîne de caractères qui donne l'écriture en base 16 d'un entier d\n",
    "        Sortie : l'entier d (écriture en base 10)\n",
    "        Exemple : hex2dec(\"23A\") renvoie 570.\n",
    "    \"\"\"\n",
    "    pass"
   ]
  },
  {
   "cell_type": "code",
   "execution_count": null,
   "metadata": {},
   "outputs": [],
   "source": [
    "# Tests\n",
    "assert hex2dec(\"0\") == 0\n",
    "assert hex2dec(\"23A\") == 570"
   ]
  },
  {
   "cell_type": "markdown",
   "metadata": {},
   "source": [
    "### Fonction  `dec2hex`"
   ]
  },
  {
   "cell_type": "code",
   "execution_count": null,
   "metadata": {},
   "outputs": [],
   "source": [
    "# À vous de jouer !\n",
    "def dec2hex(d):\n",
    "    \"\"\" Permet de convertir de la base 10 vers la base 16\n",
    "        Entrée : un entier d\n",
    "        Sortie : une chaîne de caractères h qui donne l'écriture de d en base 16\n",
    "        Exemple : dec2hex(570) renvoie \"23A\"\n",
    "    \"\"\""
   ]
  },
  {
   "cell_type": "code",
   "execution_count": null,
   "metadata": {},
   "outputs": [],
   "source": [
    "# Tests\n",
    "assert dec2hex(0) == \"0\"\n",
    "assert dec2hex(570) == \"23A\""
   ]
  },
  {
   "cell_type": "markdown",
   "metadata": {},
   "source": [
    "## 3. Les bases $2$ et $16$"
   ]
  },
  {
   "cell_type": "markdown",
   "metadata": {},
   "source": [
    "En **utilisant les fonctions déjà écrites précédemment**, écrire ci-dessous les fonctions `bin2hex` et `hex2bin` permettant les conversions entre base $2$ et base $16$.   \n",
    "*Remarque . &ndash; Ne pas oublier de rédiger la documentation de chaque fonction.*"
   ]
  },
  {
   "cell_type": "markdown",
   "metadata": {},
   "source": [
    "### Fonction `bin2hex`"
   ]
  },
  {
   "cell_type": "code",
   "execution_count": null,
   "metadata": {},
   "outputs": [],
   "source": [
    "# À vous de jouer !\n",
    "def bin2hex(b):\n",
    "    \"\"\"Permet de convertir de la base 2 vers la base 16\n",
    "       Entrée : b est une chaîne de caractères qui donne l'écriture en base 2 d'un entier\n",
    "       Sortie : h est une chaîne de caractères qui donne l'écriture en base 16 de cet entier\n",
    "       Exemple : bin2hex(\"11010\") renvoie \"1A\".    \n",
    "    \"\"\"\n",
    "    pass"
   ]
  },
  {
   "cell_type": "code",
   "execution_count": null,
   "metadata": {},
   "outputs": [],
   "source": [
    "# Tests\n",
    "assert bin2hex(\"0\") == \"0\"\n",
    "assert bin2hex(\"11010\") == \"1A\""
   ]
  },
  {
   "cell_type": "markdown",
   "metadata": {},
   "source": [
    "### Fonction `hex2bin`"
   ]
  },
  {
   "cell_type": "code",
   "execution_count": null,
   "metadata": {},
   "outputs": [],
   "source": [
    "# À vous de jouer !\n",
    "def hex2bin(h):\n",
    "    \"\"\"Permet de convertir de la base 16 vers la base 2\n",
    "       Entrée : h est une chaîne de caractères qui donne l'écriture en base 16 de cet entier\n",
    "       Sortie : b est une chaîne de caractères qui donne l'écriture en base 2 d'un entier\n",
    "       Exemple : hex2bin(\"1A\") renvoie \"11010\".    \n",
    "    \"\"\"\n",
    "    pass"
   ]
  },
  {
   "cell_type": "code",
   "execution_count": null,
   "metadata": {},
   "outputs": [],
   "source": [
    "# Tests\n",
    "assert hex2bin(\"0\") == \"0\"\n",
    "assert hex2bin(\"1A\") == \"11010\""
   ]
  }
 ],
 "metadata": {
  "kernelspec": {
   "display_name": "Python 3 (ipykernel)",
   "language": "python",
   "name": "python3"
  },
  "language_info": {
   "codemirror_mode": {
    "name": "ipython",
    "version": 3
   },
   "file_extension": ".py",
   "mimetype": "text/x-python",
   "name": "python",
   "nbconvert_exporter": "python",
   "pygments_lexer": "ipython3",
   "version": "3.8.12"
  },
  "latex_envs": {
   "LaTeX_envs_menu_present": true,
   "autoclose": false,
   "autocomplete": true,
   "bibliofile": "biblio.bib",
   "cite_by": "apalike",
   "current_citInitial": 1,
   "eqLabelWithNumbers": true,
   "eqNumInitial": 1,
   "hotkeys": {
    "equation": "Ctrl-E",
    "itemize": "Ctrl-I"
   },
   "labels_anchors": false,
   "latex_user_defs": false,
   "report_style_numbering": false,
   "user_envs_cfg": false
  }
 },
 "nbformat": 4,
 "nbformat_minor": 2
}
