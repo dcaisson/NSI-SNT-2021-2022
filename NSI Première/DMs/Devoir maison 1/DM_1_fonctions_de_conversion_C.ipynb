{
 "cells": [
  {
   "cell_type": "markdown",
   "metadata": {},
   "source": [
    "# Devoir maison 1 &ndash; Fonctions de conversion &ndash; Éléments de correction"
   ]
  },
  {
   "cell_type": "markdown",
   "metadata": {},
   "source": [
    "Le but de ce devoir est de regrouper dans un même notebook toutes les fonctions de conversion (entre les bases $2$, $10$ et $16$) vues en cours, et d'écrire celles qui manquent.\n",
    "On portera une attention particulière à la rédaction de la documentation (*docstring*) de chaque fonction."
   ]
  },
  {
   "cell_type": "markdown",
   "metadata": {},
   "source": [
    "## 1. Les bases $2$ et $10$"
   ]
  },
  {
   "cell_type": "markdown",
   "metadata": {},
   "source": [
    "Réécrire ci-dessous les fonctions `dec2bin` et `bin2dec` permettant les conversions entre base $2$ et base $10$.   \n",
    "*Remarque . &ndash; Ne pas oublier de rédiger la documentation de chaque fonction (voir par exemple la partie 2.).*"
   ]
  },
  {
   "cell_type": "markdown",
   "metadata": {},
   "source": [
    "### Fonction `dec2bin`"
   ]
  },
  {
   "cell_type": "code",
   "execution_count": 9,
   "metadata": {},
   "outputs": [],
   "source": [
    "# À vous de jouer !\n",
    "def dec2bin(n):\n",
    "    \"\"\"Permet de convertir de la base 10 vers la base 2\n",
    "       Entrée : n est un entier (base 10)\n",
    "       Sortie : b est une chaîne de caractères qui donne l'écriture de n en base 2\n",
    "       Exemple : dec2bin(12) renvoie \"1100\"\n",
    "    \"\"\"\n",
    "    if n == 0:\n",
    "        return \"0\"\n",
    "    else:\n",
    "        b = \"\"\n",
    "        while n != 0:\n",
    "            b = str(n % 2) + b\n",
    "            n = n // 2\n",
    "    return b"
   ]
  },
  {
   "cell_type": "markdown",
   "metadata": {},
   "source": [
    "### Fonction `bin2dec`"
   ]
  },
  {
   "cell_type": "code",
   "execution_count": 7,
   "metadata": {},
   "outputs": [],
   "source": [
    "# À vous de jouer !\n",
    "def bin2dec(b):\n",
    "    \"\"\"Permet de convertir de la base 2 vers la base 10\n",
    "       Entrée : b est une chaîne de caractères qui donne l'écriture d'un entier d en base 2\n",
    "       Sortie : l'entier d\n",
    "       Exemple : bin2dec(\"1100\") renvoie 12\n",
    "    \"\"\"   \n",
    "    l = len(b)\n",
    "    d = 0\n",
    "    for i in range(l):\n",
    "        c = int(b[i])\n",
    "        d = d + c * 2 ** (l -  i- 1)\n",
    "    return d"
   ]
  },
  {
   "cell_type": "markdown",
   "metadata": {},
   "source": [
    "## 2. Les bases $10$ et $16$"
   ]
  },
  {
   "cell_type": "markdown",
   "metadata": {},
   "source": [
    "Écrire ci-dessous les fonctions `dec2hex` et `hex2dec` permettant les conversions entre base $10$ et base $16$."
   ]
  },
  {
   "cell_type": "markdown",
   "metadata": {},
   "source": [
    "### Fonction `dec2hex`"
   ]
  },
  {
   "cell_type": "code",
   "execution_count": 20,
   "metadata": {},
   "outputs": [],
   "source": [
    "# À vous de jouer !\n",
    "def dec2hex(d):\n",
    "    \"\"\"Permet de convertir de la base 10 vers la base 16\n",
    "       Entrée : un entier d\n",
    "       Sortie : une chaîne de caractères h qui donne l'écriture de d en base 16\n",
    "       Exemple : dec2hex(570) renvoie \"23A\"\n",
    "    \"\"\"\n",
    "    # valeur est un dictionnaire\n",
    "    valeur = {0:\"0\", 1:\"1\", 2:\"2\", 3:\"3\", 4:\"4\", 5:\"5\", 6:\"6\", 7:\"7\",\n",
    "              8:\"8\", 9:\"9\", 10:\"A\", 11:\"B\", 12:\"C\", 13:\"D\", 14:\"E\", 15:\"F\"}\n",
    "    if d == 0:\n",
    "        return \"0\"\n",
    "    else:\n",
    "        h = \"\"\n",
    "        while d != 0:\n",
    "            h = valeur[d % 16] + h\n",
    "            d = d // 16\n",
    "    return h"
   ]
  },
  {
   "cell_type": "markdown",
   "metadata": {},
   "source": [
    "### Fonction `hex2dec`"
   ]
  },
  {
   "cell_type": "code",
   "execution_count": 12,
   "metadata": {},
   "outputs": [],
   "source": [
    "# À vous de jouer !\n",
    "def hex2dec(h):\n",
    "    \"\"\"Permet de convertir de la base 16 vers la base 10\n",
    "       Entrée : h est une chaîne de caractères qui donne l'écriture en base 16 d'un entier d\n",
    "       Sortie : l'entier d (écriture en base 10)\n",
    "       Exemple : hex2dec(\"23A\") renvoie 570.\n",
    "    \"\"\"\n",
    "    L = len(h)\n",
    "    d = 0\n",
    "    # valeur est un dictionnaire\n",
    "    valeur = {\"0\":0, \"1\":1, \"2\":2, \"3\":3, \"4\":4, \"5\":5, \"6\":6, \"7\":7,\n",
    "    \"8\":8, \"9\":9, \"A\":10, \"B\":11, \"C\":12, \"D\":13, \"E\":14, \"F\":15}\n",
    "    for i in range(L):\n",
    "        caractere = h[i]\n",
    "        # si caractere = \"A\"\n",
    "        # valeur[caractere] = valeur[\"A\"] = 10\n",
    "        d = d + valeur[caractere] * 16 ** (L - 1 - i)\n",
    "    return d"
   ]
  },
  {
   "cell_type": "markdown",
   "metadata": {},
   "source": [
    "## 3. Les bases $2$ et $16$"
   ]
  },
  {
   "cell_type": "markdown",
   "metadata": {},
   "source": [
    "En **utilisant les fonctions déjà écrites précédemment**, écrire ci-dessous les fonctions `bin2hex` et `hex2bin` permettant les conversions entre base $2$ et base $16$.   \n",
    "*Remarque . -- Ne pas oublier de rédiger la documentation de chaque fonction.*"
   ]
  },
  {
   "cell_type": "markdown",
   "metadata": {},
   "source": [
    "### Fonction `bin2hex`"
   ]
  },
  {
   "cell_type": "code",
   "execution_count": 24,
   "metadata": {},
   "outputs": [],
   "source": [
    "# À vous de jouer !\n",
    "def bin2hex(b):\n",
    "    \"\"\"Permet de convertir de la base 2 vers la base 16\n",
    "       Entrée : b est une chaîne de caractères qui donne l'écriture en base 2 d'un entier\n",
    "       Sortie : h est une chaîne de caractères qui donne l'écriture en base 16 de cet entier\n",
    "       Exemple : bin2hex(\"11010\") renvoie \"1A\".    \n",
    "    \"\"\"\n",
    "    d = bin2dec(b)\n",
    "    h = dec2hex(d)\n",
    "    return h"
   ]
  },
  {
   "cell_type": "markdown",
   "metadata": {},
   "source": [
    "### Fonction `hex2bin`"
   ]
  },
  {
   "cell_type": "code",
   "execution_count": 28,
   "metadata": {},
   "outputs": [],
   "source": [
    "# À vous de jouer !\n",
    "def hex2bin(h):\n",
    "    \"\"\"Permet de convertir de la base 16 vers la base 2\n",
    "       Entrée : h est une chaîne de caractères qui donne l'écriture en base 16 de cet entier\n",
    "       Sortie : b est une chaîne de caractères qui donne l'écriture en base 2 d'un entier\n",
    "       Exemple : hex2bin(\"1A\") renvoie \"11010\".    \n",
    "    \"\"\"\n",
    "    d = hex2dec(h)\n",
    "    b = dec2bin(d)\n",
    "    return b"
   ]
  }
 ],
 "metadata": {
  "kernelspec": {
   "display_name": "Python 3 (ipykernel)",
   "language": "python",
   "name": "python3"
  },
  "language_info": {
   "codemirror_mode": {
    "name": "ipython",
    "version": 3
   },
   "file_extension": ".py",
   "mimetype": "text/x-python",
   "name": "python",
   "nbconvert_exporter": "python",
   "pygments_lexer": "ipython3",
   "version": "3.8.12"
  },
  "latex_envs": {
   "LaTeX_envs_menu_present": true,
   "autoclose": false,
   "autocomplete": true,
   "bibliofile": "biblio.bib",
   "cite_by": "apalike",
   "current_citInitial": 1,
   "eqLabelWithNumbers": true,
   "eqNumInitial": 1,
   "hotkeys": {
    "equation": "Ctrl-E",
    "itemize": "Ctrl-I"
   },
   "labels_anchors": false,
   "latex_user_defs": false,
   "report_style_numbering": false,
   "user_envs_cfg": false
  }
 },
 "nbformat": 4,
 "nbformat_minor": 2
}
